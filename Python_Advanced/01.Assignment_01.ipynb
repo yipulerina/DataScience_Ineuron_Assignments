{
 "cells": [
  {
   "cell_type": "markdown",
   "id": "f539b01e",
   "metadata": {},
   "source": [
    "# Assignment 1\n",
    "\n",
    "### Submitted by : Yipu Lerina"
   ]
  },
  {
   "cell_type": "markdown",
   "id": "942401c5",
   "metadata": {},
   "source": [
    "#### Q1. What is the purpose of Python's OOP?\n",
    "**Ans:** Object-oriented programming is a programming paradigm that provides a means of structuring programs so that properties and behaviors are bundled into individual objects\n",
    "- In Python, object-oriented Programming (OOPs) uses objects and classes in programming. \n",
    "- It aims to implement real-world entities like inheritance, polymorphisms, encapsulation, etc. in the programming.\n",
    "- The main concept of OOPs is to bind the data and the functions that work on that together as a single unit so that no other part of the code can access this data. \n",
    "\n",
    "**Advantages**:\n",
    "- It helps to divide our over all program into different small segments and thus making it solving easy with the use of objects\n",
    "- Helps in easy maintenance and modification of existing program\n",
    "- Multiple instances of an object can be made."
   ]
  },
  {
   "cell_type": "markdown",
   "id": "7cfcf3e9",
   "metadata": {},
   "source": [
    "#### Q2. Where does an inheritance search look for an attribute?\n",
    "**Ans:** In Python, when an object inherits from another class, it can access the attributes and methods of its parent class. When an inheritance search looks for an attribute, it follows a specific order, known as the method resolution order (MRO).\n",
    "\n",
    "The MRO is the order in which Python searches for an attribute or method in a class and its parents. It starts with the most recent class and moves up the inheritance tree. Here's the order in which Python searches for an attribute:\n",
    "\n",
    "1. Local scope: First, Python checks if the attribute is defined in the local scope of the current class. If it finds the attribute, it returns it directly.\n",
    "\n",
    "2. Parent class: If the attribute is not found in the local scope, Python checks if the parent class has an attribute with the same name. If the parent class has the attribute, Python returns it.\n",
    "\n",
    "3. Grandparent class: If the attribute is not found in the parent class, Python checks if the grandparent class has an attribute with the same name. If the grandparent class has the attribute, Python returns it.\n",
    "\n",
    "4. Continue up the inheritance chain: This process continues up the inheritance chain, with Python checking each class in the chain for the attribute. If an attribute is found in any of the classes, Python returns it.\n",
    "\n",
    "5. Global scope: If no class in the inheritance chain has the attribute, Python checks the global scope to see if there is a variable or function with the same name. If there is, Python returns it.\n",
    "\n",
    "6. Default value: If none of the above steps yield a result, Python will return a default value (e.g., None) or raise an AttributeError if the attribute is required but not found."
   ]
  },
  {
   "cell_type": "markdown",
   "id": "096d7b0b",
   "metadata": {},
   "source": [
    "#### Q3. How do you distinguish between a class object and an instance object?\n",
    "**Ans:** In Python, a class object and an instance object can be distinguished based on their characteristics and the ways they are used in the code. Here are some key differences:\n",
    "\n",
    "1. Definition: A class object is a template or blueprint for creating instances, while an instance object is a unique entity created using a class.\n",
    "\n",
    "2. Lifetime: A class object exists as long as the module that defines it is loaded in memory, whereas an instance object is created and destroyed at runtime.\n",
    "\n",
    "3. Identity: A class object has a fixed identity and cannot be changed once it's defined, whereas an instance object has a dynamic identity that can change during its lifetime.\n",
    "\n",
    "4. State: A class object typically doesn't have any state (data) associated with it, while an instance object can have its own set of attributes (state) that are unique to that particular instance.\n",
    "\n",
    "5. Behavior: A class object usually contains static methods and properties that define the behavior of instances created from it, while an instance object can have its own set of instance methods and attributes that override or augment those defined in the class.\n",
    "\n",
    "6. Access: You can access a class object using the class name, while you can access an instance object using a reference or pointer to the object.\n",
    "\n",
    "7. Creation: Class objects are created using the `type()` constructor, while instance objects are created using the `class()` constructor followed by calling the `__init__` method.\n",
    "\n",
    "8. Dunder methods: Class objects have special dunder methods like `__call__`, `__init__`, `__str__`, etc., that are not present in instance objects.\n",
    "\n",
    "9. Customization: Instance objects can be customized independently of the class they were created from, while class objects are less flexible and cannot be altered after definition.\n",
    "\n",
    "10. Persistence: Class objects persist even after all instances of the class have been garbage collected, while instance objects are subject to garbage collection and may cease to exist when there are no longer any references to them."
   ]
  },
  {
   "cell_type": "markdown",
   "id": "fd8cc6bc",
   "metadata": {},
   "source": [
    "#### Q4. What makes the first argument in a class’s method function special?\n",
    "**Ans:** The first argument in a class's method function is special because it is used to represent the instance that the method belongs to. In other words, it represents the \"self\" or \"this\" keyword in the method signature.\n",
    "\n",
    "When you call a method on an object, Python passes two things to the method: the object itself (represented by the first argument) and any additional arguments passed when calling the method."
   ]
  },
  {
   "cell_type": "code",
   "execution_count": null,
   "id": "9cc8d804",
   "metadata": {},
   "outputs": [],
   "source": [
    "class MyClass:\n",
    "    def __init__(self, x):\n",
    "        self.x = x\n",
    "    \n",
    "    def my_method(self):\n",
    "        print(f\"Self: {self}\")\n",
    "        print(f\"X: {self.x}\")\n",
    "\n",
    "my_obj = MyClass(5)\n",
    "my_obj.my_method() # Output:\n",
    "# Self: <MyClass object>\n",
    "# X: 5"
   ]
  },
  {
   "cell_type": "markdown",
   "id": "bb60e018",
   "metadata": {},
   "source": [
    "As you can see, the first argument in the method signature (self) is not explicitly passed when calling the method. Instead, Python automatically passes the object instance (i.e., my_obj) as the first argument when calling my_method().\n",
    "\n",
    "This convention allows you to use the first argument to refer to the instance that the method belongs to. This is useful for accessing the instance's attributes and performing actions that depend on the specific instance."
   ]
  },
  {
   "cell_type": "markdown",
   "id": "94de0426",
   "metadata": {},
   "source": [
    "#### Q5. What is the purpose of the __init__ method?\n",
    "**Ans:** **`__init__`** is a reseved method in python classes. It serves the role of a **constructor** in object oriented terminology. This method is called when an object is created from a class and it allows the class to initialize the attributes of the class\n",
    "\n",
    "The __init__ method is a special method in Python, meaning that it is automatically generated by the interpreter\n",
    "when a class is defined. It takes no arguments, since it is intended to be called only once, when the object is created."
   ]
  },
  {
   "cell_type": "markdown",
   "id": "3e47943f",
   "metadata": {},
   "source": [
    "#### Q6. What is the process for creating a class instance?\n",
    "**Ans:** The process for creating a class instance in Python involves several steps:\n",
    "\n",
    "1. Define the class: First, you need to define the class that you want to create an instance of. This includes defining the properties and methods that the class will have.\n",
    "\n",
    "2. Create an instance: To create an instance of a class, you use the `class()` syntax followed by the name of the class and parentheses containing the required arguments. For example: `my_object = MyClass('arg1', 'arg2')`.\n",
    "\n",
    "3. Call the constructor: When you create an instance of a class, Python calls the class's constructor (the `__init__` method) with the arguments you provided. The constructor initializes the object's attributes and performs any necessary setup operations.\n",
    "\n",
    "4. Set up attributes: After the constructor finishes executing, the new object has its own set of attributes that correspond to the class variables defined in the class definition. You can access and modify these attributes using dot notation.\n",
    "\n",
    "5. Use the object: Once the object is created, you can use it to call methods and access attributes.\n",
    "\n",
    "**Example:** **`my_name = my_class(\"Hero\",\"Ok\")`** Here `my_name` is an instance of class `my_class` with attributes \"Hero\" and \"Ok\".\n",
    "\n",
    " \n"
   ]
  },
  {
   "cell_type": "code",
   "execution_count": 1,
   "id": "d8bdbfeb",
   "metadata": {},
   "outputs": [
    {
     "name": "stdout",
     "output_type": "stream",
     "text": [
      "Hello!\n",
      "apple\n",
      "banana\n"
     ]
    }
   ],
   "source": [
    "class MyClass:\n",
    "    def __init__(self, arg1, arg2):\n",
    "        self.arg1 = arg1\n",
    "        self.arg2 = arg2\n",
    "    \n",
    "    def say_hello(self):\n",
    "        print(\"Hello!\")\n",
    "\n",
    "my_object = MyClass('apple', 'banana')\n",
    "my_object.say_hello()  # Output: Hello!\n",
    "print(my_object.arg1)  # Output: apple\n",
    "print(my_object.arg2)  # Output: banana"
   ]
  },
  {
   "cell_type": "markdown",
   "id": "8ddf33a9",
   "metadata": {},
   "source": [
    "#### Q7. What is the process for creating a class?\n",
    "**Ans:**  To create a class in Python, follow these steps:\n",
    "\n",
    "1. Define the class name and inheritance (if applicable) using the `class` keyword.\n",
    "\n",
    "2. Define class variables (instance variables) using the `self` parameter.\n",
    "\n",
    "3. Define class methods (functions) using the `def` keyword.\n",
    "\n",
    "4. Optionally define a constructor using the `__init__()` method.\n",
    "\n",
    "5. Optionally define a destructor using the `__del__()` method.\n",
    "\n",
    "6. Use the `pass` statement to skip any remaining parts of the class definition.\n",
    "\n",
    "7. End the class definition with a closing `}` brace.\n",
    "\n",
    "\n",
    "Here's an example of a simple class in Python:\n",
    "```python\n",
    "class Dog:\n",
    "    def __init__(self, name, age):\n",
    "        self.name = name\n",
    "        self.age = age\n",
    "    \n",
    "    def bark(self):\n",
    "        print(\"Woof!\")\n",
    "\n",
    "dog = Dog(\"Fido\", 3)\n",
    "dog.bark() # Output: Woof!\n",
    "```\n",
    "In this example, we defined a class `Dog` with two instance variables (`name` and `age`) and one method (`bark`). We also defined a constructor to initialize the instance variables and a method to make the dog bark. Finally, we created an object `dog` from the `Dog` class and called its `bark` method."
   ]
  },
  {
   "cell_type": "markdown",
   "id": "b58c55d6",
   "metadata": {},
   "source": [
    "#### Q8. How would you define the superclasses of a class?\n",
    "**Ans**  In object-oriented programming, a superclass (also known as a parent class or base class) is a class that provides the basic properties and behaviors for a related group of subclasses.\n",
    "\n",
    "To define a superclass in Python, you can simply create a class and define its characteristics (variables and methods) as you would for any other class. The key difference is that a superclass is designed to be inherited by other classes, which means that it provides a common set of attributes and methods that can be shared and extended by its subclasses.\n",
    "\n",
    "In the example below, `Animal` is the superclass and `Dog` is a subclass that inherits from `Animal`. The `Dog` class defines its own characteristics and methods, but it also inherits the `name` attribute and `make_sound` method from `Animal`. This allows `Dog` to build upon the functionality provided by `Animal` while still retaining its own unique features."
   ]
  },
  {
   "cell_type": "code",
   "execution_count": 2,
   "id": "2009efe3",
   "metadata": {},
   "outputs": [
    {
     "name": "stdout",
     "output_type": "stream",
     "text": [
      "The dog wags its tail and barks.\n"
     ]
    }
   ],
   "source": [
    "class Animal:\n",
    "    def __init__(self, name):\n",
    "        self.name = name\n",
    "    \n",
    "    def make_sound(self):\n",
    "        print(\"The animal makes a sound.\")\n",
    "\n",
    "class Dog(Animal):\n",
    "    def __init__(self, name, breed):\n",
    "        super().__init__(name)\n",
    "        self.breed = breed\n",
    "    \n",
    "    def make_sound(self):\n",
    "        print(\"The dog wags its tail and barks.\")\n",
    "\n",
    "my_dog = Dog(\"Fido\", \"Golden Retriever\")\n",
    "my_dog.make_sound()  # Output: The dog wags its tail and barks."
   ]
  }
 ],
 "metadata": {
  "kernelspec": {
   "display_name": "Python 3",
   "language": "python",
   "name": "python3"
  },
  "language_info": {
   "codemirror_mode": {
    "name": "ipython",
    "version": 3
   },
   "file_extension": ".py",
   "mimetype": "text/x-python",
   "name": "python",
   "nbconvert_exporter": "python",
   "pygments_lexer": "ipython3",
   "version": "3.9.12"
  }
 },
 "nbformat": 4,
 "nbformat_minor": 5
}
