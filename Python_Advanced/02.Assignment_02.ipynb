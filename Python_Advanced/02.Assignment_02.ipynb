{
 "cells": [
  {
   "cell_type": "markdown",
   "id": "1a3464c1",
   "metadata": {},
   "source": [
    "# Assignment 2\n",
    "\n",
    "### Submitted by : Yipu Lerina"
   ]
  },
  {
   "cell_type": "markdown",
   "id": "91f50838",
   "metadata": {},
   "source": [
    "#### Q1. What is the relationship between classes and modules?\n",
    "**Ans:** A Python class is like an outline/blueprint/mold for creating a new object. An object is anything that you wish to manipulate or change while working through the code. Every time a class object is instantiated, which is when we declare a variable, a new object is initiated from scratch\n",
    "\n",
    "Whereas in Python, Modules are simply files with the **`. py`** extension containing Python code that can be imported inside another Python Program. In simple terms, we can consider a module to be the same as a code library or a file that contains a set of functions/Classes that you want to include in your application.\n",
    "\n"
   ]
  },
  {
   "cell_type": "markdown",
   "id": "92be3b82",
   "metadata": {},
   "source": [
    "#### Q2. How do you make instances and classes?\n",
    "**Ans:** For creating a `class instance`. we call a class by its name and pass the necessary arguments which its **`__init__`** method accepts.\n",
    "\n",
    "**Example:** \n",
    "Here my_dog_instance is the instance we created.\n",
    "```python\n",
    "class Dog:\n",
    "    def __init__(self, name, age):\n",
    "        self.name = name\n",
    "        self.age = age\n",
    "    \n",
    "    def bark(self):\n",
    "        print(\"Woof!\")\n",
    "\n",
    "my_dog_instance = Dog(\"Buddy\", 3)\n",
    "```\n",
    "    ** ** **\n",
    "Whereas for creating a `class`, we use the **`Class`** keyword. Class keyword is followed by classname and semicolon.\n",
    "\n",
    "**Example:** Here `Dog` is a class created with `class` keyword with arguments name and age. \n",
    "```python\n",
    "class Dog:\n",
    "    def __init__(self, name, age):\n",
    "        self.name = name\n",
    "        self.age = age\n",
    "    \n",
    "    def bark(self):\n",
    "        print(\"Woof!\")\n",
    "```\n"
   ]
  },
  {
   "cell_type": "markdown",
   "id": "4cfb843c",
   "metadata": {},
   "source": [
    "#### Q3. Where and how should be class attributes created?\n",
    "**Ans:** Class attributes or Class level Attributes belong to the class itself. These attributes will be shared by all the instances of the class. Class attributes should be defined inside the class definition, using the `class` keyword, and should be preceded by the self parameter. \n",
    "\n",
    "**Example:** In this example, we created a class called Student with a class attribute called school. We then printed the value of the school class attribute, which is School of Assasins.\n",
    "\n",
    "```python\n",
    "class Student:\n",
    "    school = \"School of Assasins\"\n",
    "\n",
    "print(Student.school)\n",
    "\n",
    "\n",
    "```"
   ]
  },
  {
   "cell_type": "markdown",
   "id": "47c44e75",
   "metadata": {},
   "source": [
    "#### Q4. Where and how are instance attributes created?\n",
    "**Ans:** Instances attributes are passed to the class when an object of the class is created. Unlike class attributes, instance attributes are not shared by all objects of the classs. instead each object maintains its own copy of instance attributes at object level. whereas incase of class attributes all instances of class refer to a single copy. Usually instance attributes are defined within the **`__init__`** method of class\n",
    "\n",
    "**Example:** In the below sample code we are creating a class Dog with instance variables `name, breed, color` which will be provided when an instance of class Dog is created.\n",
    "\n",
    "```python\n",
    "class Dog:\n",
    "    def __init__(self,name,breed,color):\n",
    "        self.name = name # All this are instance attributes\n",
    "        self.breed = breed\n",
    "        self.color = color`\n",
    "        \n",
    "Labrador = Dog('Rufus', 'Labrador', 'Yellow') \n",
    "Golden_Retriever = Dog('Dollar','Golden Retriever', 'Brown')\n",
    "\n",
    "```\n",
    "\n",
    "Labrador, Golden_Retriever are both the instances of class Dog with different instance variables."
   ]
  },
  {
   "cell_type": "markdown",
   "id": "0ed28045",
   "metadata": {},
   "source": [
    "#### Q5. What does the term \"self\" in a Python class mean?\n",
    "**Ans:** In a Python class, `self` is a special variable that refers to the current object instance. It is used to represent the object itself, and it is available in all methods of the class.\n",
    "\n",
    "When a method is called on an object, Python passes the object instance as the first argument to the method, which is referred to as \"self\". This allows the method to access and manipulate the object's attributes and perform actions on behalf of the object."
   ]
  },
  {
   "cell_type": "code",
   "execution_count": 1,
   "id": "7864bf87",
   "metadata": {},
   "outputs": [
    {
     "name": "stdout",
     "output_type": "stream",
     "text": [
      "Woof! I'm a dog named Fido and I'm 3 years old.\n"
     ]
    }
   ],
   "source": [
    "class Dog:\n",
    "    def __init__(self, name, age):\n",
    "        self.name = name\n",
    "        self.age = age\n",
    "\n",
    "    def bark(self):\n",
    "        print(\"Woof! I'm a dog named {} and I'm {} years old.\".format(self.name, self.age))\n",
    "\n",
    "my_dog = Dog(\"Fido\", 3)\n",
    "my_dog.bark()  # Output: Woof! I'm a dog named Fido and I'm 3 years old."
   ]
  },
  {
   "cell_type": "markdown",
   "id": "60872159",
   "metadata": {},
   "source": [
    "In this example, `self` is used in the __init__ method to set the object's attributes, and in the `bark` method to access and display the object's name and age.\n",
    "\n",
    "The use of `self` allows objects to interact with themselves and perform actions that are specific to them, making it a fundamental concept in object-oriented programming."
   ]
  },
  {
   "cell_type": "markdown",
   "id": "f58ed1f8",
   "metadata": {},
   "source": [
    "#### Q6. How does a Python class handle operator overloading?\n",
    "**Ans:** Python Classes handle operator overloading by using special methods called **Magic methods** that correspond to the operators that need to be overloaded. these special methods usually begin and end with **`__`** (double underscore)  \n",
    "**Example:** Magic methods for basic arithmetic operators are:\n",
    "- `+ -> __add__()`\n",
    "- `- -> __sub__()`\n",
    "- `* -> __mul__()`\n",
    "- `/ -> __div__()`"
   ]
  },
  {
   "cell_type": "code",
   "execution_count": 6,
   "id": "60294cc1",
   "metadata": {},
   "outputs": [
    {
     "name": "stdout",
     "output_type": "stream",
     "text": [
      "15\n"
     ]
    }
   ],
   "source": [
    "# For example, let's say you want to overload the addition operator (+) for a custom class called MyClass:\n",
    "class MyClass:\n",
    "    def __init__(self, value):\n",
    "        self.value = value\n",
    "\n",
    "    def __add__(self, other):\n",
    "        return self.value + other.value\n",
    "a = MyClass(5)\n",
    "b = MyClass(10)\n",
    "result = a + b  # calls MyClass.__add__(a, b)\n",
    "print(result)  # outputs 15"
   ]
  },
  {
   "cell_type": "markdown",
   "id": "439d9d7e",
   "metadata": {},
   "source": [
    "#### Q7. When do you consider allowing operator overloading of your classes?\n",
    "**Ans:** Operator overloading can be a powerful tool for creating expressive and convenient APIs, but it's important to use it judiciously and only when it makes sense for the class.\n",
    "\n",
    "Here are some guidelines to consider when deciding whether or not to allow operator overloading for a class:\n",
    "\n",
    "1. Does it make semantic sense for the class? Operators are typically associated with mathematical or logical operations, so it's important to ensure that the operations being overloaded make sense for the class.\n",
    "\n",
    "2. Is the behavior consistent with existing operators? When overloading operators, it's important to ensure that the behavior is consistent with what users would expect based on their experience with other operators. \n",
    "\n",
    "3. Will it improve readability or convenience? Operator overloading can make code more readable and convenient by allowing developers to write expressions that are more concise and easier to understand.\n",
    "\n",
    "4. Are there any potential downsides? While operator overloading can be useful, it can also lead to confusion or unexpected behavior if not used carefully. \n",
    "\n",
    "5. Is it necessary for the class's intended use case?  If the class is meant to be used primarily in a context where operator overloading isn't relevant, it may not be worth the effort.\n"
   ]
  },
  {
   "cell_type": "markdown",
   "id": "0cd1ea24",
   "metadata": {},
   "source": [
    "#### Q8. What is the most popular form of operator overloading?\n",
    "**Ans:** In Python, the most popular form of operator overloading is probably the use of special methods, which allow developers to redefine the behavior of operators when working with custom classes. Special methods are functions that are defined inside a class definition and are called by Python automatically when certain operators or functions are applied to instances of that class.\n",
    "For example, you could overload the + operator for your own class of objects to represent points in space. This would allow you to add two points together to get a new point that represents the sum of the two original points."
   ]
  },
  {
   "cell_type": "code",
   "execution_count": 7,
   "id": "f8444677",
   "metadata": {},
   "outputs": [
    {
     "name": "stdout",
     "output_type": "stream",
     "text": [
      "Sum -> 3\n",
      "String Concatenation -> HeroNobody\n"
     ]
    }
   ],
   "source": [
    "class test:\n",
    "    def __init__(self,value):\n",
    "        self.value = value\n",
    "    def __add__(self,other):\n",
    "        return self.value+other.value\n",
    "obj1 = test(1)\n",
    "obj2 = test(2)\n",
    "obj3 = test('Hero')\n",
    "obj4 = test('Nobody')\n",
    "print(f'Sum -> {obj1+obj2}')\n",
    "print(f'String Concatenation -> {obj3+obj4}')"
   ]
  },
  {
   "cell_type": "markdown",
   "id": "3ff6f7f0",
   "metadata": {},
   "source": [
    "#### Q9. What are the two most important concepts to grasp in order to comprehend Python OOP code?\n",
    "**Ans:**  To comprehend Python Object-Oriented Programming (OOP) code, the two most important concepts to grasp are:\n",
    "\n",
    "1. `Classes and Objects`: Understanding the concept of classes and objects is crucial in Python OOP. A class is a blueprint or template that defines the characteristics and behaviors of an object. An object is an instance of a class, and it has its own set of attributes (data) and methods (functions). Inheritance, polymorphism, and encapsulation are all built around the concept of classes and objects.\n",
    "2. `Inheritance`: Inheritance is the mechanism of creating a new class based on an existing one. The new class, called the subclass, inherits the attributes and methods of the existing class, called the superclass. The subclass can also define new attributes and methods or override the ones inherited from the superclass. Understanding inheritance is essential to understand how classes are related and how they inherit behavior and data from each other.\n",
    "\n",
    "Additionally, familiarity with the following concepts can also help in understanding Python OOP code:\n",
    "\n",
    "* `Encapsulation`: This refers to hiding internal implementation details of an object from the outside world and exposing only the necessary interfaces to interact with the object.\n",
    "* `Polymorphism`: This is the ability of an object to take multiple forms. In Python, this can be achieved through method overriding or method overloading.\n",
    "* `Abstraction`: This involves representing complex real-world entities in a simplified way, focusing on essential features and behaviors while ignoring irrelevant details.\n",
    "* `Composition`: This refers to combining objects to create more complex objects.\n",
    "\n"
   ]
  },
  {
   "cell_type": "markdown",
   "id": "53eedeef",
   "metadata": {},
   "source": []
  }
 ],
 "metadata": {
  "kernelspec": {
   "display_name": "Python 3",
   "language": "python",
   "name": "python3"
  },
  "language_info": {
   "codemirror_mode": {
    "name": "ipython",
    "version": 3
   },
   "file_extension": ".py",
   "mimetype": "text/x-python",
   "name": "python",
   "nbconvert_exporter": "python",
   "pygments_lexer": "ipython3",
   "version": "3.9.12"
  }
 },
 "nbformat": 4,
 "nbformat_minor": 5
}
