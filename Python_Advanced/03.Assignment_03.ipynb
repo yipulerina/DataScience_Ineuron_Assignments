{
 "cells": [
  {
   "cell_type": "markdown",
   "id": "55846da8",
   "metadata": {},
   "source": [
    "# Assignment 3\n",
    "\n",
    "### Submitted by : Yipu Lerina"
   ]
  },
  {
   "cell_type": "markdown",
   "id": "6d38e68b",
   "metadata": {},
   "source": [
    "#### 1. What is the concept of an abstract superclass?\n",
    "**Ans:** An `abstract superclass` (also known as an abstract base class) is a class in object-oriented programming that serves as a common ancestor for a group of subclasses. It is called \"abstract\" because it cannot be instantiated directly, but must be subclassed instead.\n",
    "\n",
    "An abstract superclass typically defines a set of methods and properties that its subclasses must implement or inherit. These methods and properties are usually related to a specific domain or problem area, and are intended to provide a common framework for all the subclasses to build upon.\n",
    "\n",
    "The main purpose of an abstract superclass is to define a shared interface or contract that its subclasses must adhere to. By doing so, it provides a way to ensure that all subclasses share a common set of attributes and behaviors, while still allowing them to differ in their specific implementations."
   ]
  },
  {
   "cell_type": "code",
   "execution_count": 3,
   "id": "00e14ca4",
   "metadata": {},
   "outputs": [
    {
     "name": "stdout",
     "output_type": "stream",
     "text": [
      "78.5\n"
     ]
    }
   ],
   "source": [
    "import abc\n",
    "class shape:\n",
    "    \n",
    "    def __init__(self,x,y):\n",
    "        self.x = x\n",
    "        self.y = y\n",
    "    @abc.abstractmethod\n",
    "    def area(self):\n",
    "        pass\n",
    "    \n",
    "class Circle(shape):\n",
    "    def __init__(self,x,y,radius):\n",
    "        super().__init__(x,y)\n",
    "        self.radius = radius\n",
    "    \n",
    "    def area(self):\n",
    "        return 3.14 * self.radius ** 2\n",
    "    \n",
    "\n",
    "# Use the abstract superclass and concrete subclasses\n",
    "circle = Circle(0, 0, 5)\n",
    "\n",
    "print(circle.area())"
   ]
  },
  {
   "cell_type": "markdown",
   "id": "e4a49a25",
   "metadata": {},
   "source": [
    "#### 2. What happens when a class statement's top level contains a basic assignment statement?\n",
    "**Ans:** When a Class statement's top level contains a basic assignment statement, its usually treated as a class attribute or class level variable. \n",
    "\n",
    "Whereass assignment statements inside methods are treated as instance attributes or local attributes.\n",
    "\n",
    "When a class attribute is defined using a basic assignment statement at the top level of a class definition, it is initialized once, during class definition, and its value is shared by all instances of the class."
   ]
  },
  {
   "cell_type": "code",
   "execution_count": 4,
   "id": "c5d88b4d",
   "metadata": {},
   "outputs": [
    {
     "name": "stdout",
     "output_type": "stream",
     "text": [
      "Initializing instance\n",
      "Initializing instance\n",
      "5\n",
      "5\n",
      "5\n"
     ]
    }
   ],
   "source": [
    "class MyClass:\n",
    "    x = 5 #class attribute\n",
    "\n",
    "    def __init__(self):\n",
    "        print(\"Initializing instance\")\n",
    "\n",
    "a = MyClass()\n",
    "b = MyClass()\n",
    "\n",
    "print(MyClass.x)  \n",
    "print(a.x)  \n",
    "print(b.x)  "
   ]
  },
  {
   "cell_type": "markdown",
   "id": "beb231b3",
   "metadata": {},
   "source": [
    "#### 3. Why does a class need to manually call a superclass's `__init__ `method?\n",
    "**Ans:** In Python, a class needs to manually call a `superclass's __init__ `method in order to properly initialize the parent class's state.\n",
    "\n",
    "When a class inherits from another class, it automatically inherits all of the parent class's attributes and methods, including the `__init__ `method. However, the inherited `__init__ `method will not be called automatically when an instance of the child class is created. Instead, the child class must explicitly call the parent class's `__init__ `method in its own initialization process.\n",
    "\n",
    "The main reason for always calling base class `__init__ `is that the base class may typically create member variables and initialize them to defaults. If you don't call base class __init__, none of that code would be executed and you would end up with base class that has no member variables. \n"
   ]
  },
  {
   "cell_type": "code",
   "execution_count": 5,
   "id": "d30162f0",
   "metadata": {},
   "outputs": [
    {
     "name": "stdout",
     "output_type": "stream",
     "text": [
      "{'name': 'Hero', 'age': 23, 'salary': 90000}\n"
     ]
    }
   ],
   "source": [
    "class Individual:\n",
    "    def __init__(self,name,age):\n",
    "        self.name = name\n",
    "        self.age = age       \n",
    "class Employee(Individual):\n",
    "    def __init__(self,name,age,salary):\n",
    "        super().__init__(name,age)\n",
    "        self.salary = salary\n",
    "emp_1 = Employee('Hero',23,90000)\n",
    "print(emp_1.__dict__)"
   ]
  },
  {
   "cell_type": "markdown",
   "id": "f7468111",
   "metadata": {},
   "source": [
    "#### 4. How can you augment, instead of completely replacing, an inherited method?\n",
    "**Ans:** In Python, you can augment, instead of completely replacing, an inherited method by using the `super()` function to call the parent class's method and then adding additional code to modify or extend its behavior.."
   ]
  },
  {
   "cell_type": "code",
   "execution_count": 8,
   "id": "437bf527",
   "metadata": {},
   "outputs": [
    {
     "name": "stdout",
     "output_type": "stream",
     "text": [
      "Hello from parent.\n",
      "Hello from child.\n"
     ]
    }
   ],
   "source": [
    "class Parent:\n",
    "    def say_hello(self):\n",
    "        print(\"Hello from parent.\")\n",
    "\n",
    "class Child(Parent):\n",
    "    def say_hello(self):\n",
    "        super().say_hello()  # Calls the parent class's method\n",
    "        print(\"Hello from child.\")\n",
    "\n",
    "child = Child()\n",
    "child.say_hello() "
   ]
  },
  {
   "cell_type": "markdown",
   "id": "16559793",
   "metadata": {},
   "source": [
    "#### 5. How is the local scope of a class different from that of a function?\n",
    "**Ans:** A Variable which is defined inside a function is local to that function. it is accesible from the point at which it is defined until the end of the function, and exists for as long as the function is existing.\n",
    "\n",
    "Similary a variable inside of a class also has a local variable scope. Variables which are defined in the class body (but outside all methods) are called as class level variables or class attributes. they can be referenced by there bare names within the same scope, but they can also be accessed from outside this scope if we use the attribute access operator `(.)` on a class or an instance of the class."
   ]
  },
  {
   "cell_type": "code",
   "execution_count": 9,
   "id": "1d9896b9",
   "metadata": {},
   "outputs": [
    {
     "name": "stdout",
     "output_type": "stream",
     "text": [
      "Hello, Alice!\n",
      "Hello, Bob!\n"
     ]
    }
   ],
   "source": [
    "# A function with a local variable\n",
    "def greet(name):\n",
    "    message = f\"Hello, {name}!\"\n",
    "    return message\n",
    "\n",
    "# A class with a local variable\n",
    "class Greeter:\n",
    "    def __init__(self, name):\n",
    "        self.message = f\"Hello, {name}!\"\n",
    "    \n",
    "    def greet(self):\n",
    "        return self.message\n",
    "\n",
    "# Calling the function and class\n",
    "print(greet(\"Alice\"))  \n",
    "greeter = Greeter(\"Bob\")\n",
    "print(greeter.greet())  "
   ]
  },
  {
   "cell_type": "code",
   "execution_count": null,
   "id": "564f00df",
   "metadata": {},
   "outputs": [],
   "source": []
  }
 ],
 "metadata": {
  "kernelspec": {
   "display_name": "Python 3",
   "language": "python",
   "name": "python3"
  },
  "language_info": {
   "codemirror_mode": {
    "name": "ipython",
    "version": 3
   },
   "file_extension": ".py",
   "mimetype": "text/x-python",
   "name": "python",
   "nbconvert_exporter": "python",
   "pygments_lexer": "ipython3",
   "version": "3.9.12"
  }
 },
 "nbformat": 4,
 "nbformat_minor": 5
}
