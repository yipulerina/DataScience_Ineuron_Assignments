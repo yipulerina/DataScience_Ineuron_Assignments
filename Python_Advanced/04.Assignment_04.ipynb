{
 "cells": [
  {
   "cell_type": "markdown",
   "id": "83640f69",
   "metadata": {},
   "source": [
    "# Assignment 4\n",
    "\n",
    "### Submitted by : Yipu Lerina"
   ]
  },
  {
   "cell_type": "markdown",
   "id": "4c06fa86",
   "metadata": {},
   "source": [
    "#### Q1. Which two operator overloading methods can you use in your classes to support iteration?\n",
    "**Ans:** **`__iter__`** and **`__next__`** are the operator overloading methods in python that support iteration and are collectively called iterator protocol.The Python interpreter will automatically call the `__iter__()` method when an instance of your class is used in a for loop. The Python interpreter will then call the `__next__()` method repeatedly until it raises a StopIteration exception.\n",
    "\n",
    "- **`__iter__`** returns the iterator object and is called at the start of loop in our respective class.\n",
    "- **`__next__`** is called at each loop increment, it returns the incremented value. Also Stopiteration is raised when there is no value to return.\n",
    "\n"
   ]
  },
  {
   "cell_type": "code",
   "execution_count": 1,
   "id": "90a386ed",
   "metadata": {},
   "outputs": [
    {
     "name": "stdout",
     "output_type": "stream",
     "text": [
      "1\n",
      "2\n",
      "3\n"
     ]
    }
   ],
   "source": [
    "class Test:\n",
    "    def __init__(self, iterable):\n",
    "        self.iterable = iterable\n",
    "\n",
    "    def __iter__(self):\n",
    "        return iter(self.iterable)\n",
    "\n",
    "    def __next__(self):\n",
    "        return next(self.iterable)\n",
    "    \n",
    "    \n",
    "a = Test([1, 2, 3])\n",
    "for item in a:\n",
    "    print(item)"
   ]
  },
  {
   "cell_type": "markdown",
   "id": "0b3e5985",
   "metadata": {},
   "source": [
    "#### Q2. In what contexts do the two operator overloading methods manage printing?\n",
    "**Ans:** **`__str__`** and **`__repr__`** are two operator overloading methods that manage printing.\n",
    "- In Short, the difference between both these operators is the goal of **`__repr__`** is to be unambiguous and **`__str__`** is to be readable.\n",
    "\n",
    "\n",
    "- Whenever we are printing any object reference internally **`__str__`** method will be called by default.\n",
    "- The main purpose of **`__str__`** is for readability. it prints the informal string representation of an object, one that is useful for printing the object. it may not be possible to convert result string to original object.\n",
    "- **`__repr__`** is used to print official string representation of an object, so it includes all information and development.\n",
    "\n",
    "In general, __str__() is used more often than __repr__(), since it provides a more user-friendly and readable representation of an object. __repr__() is typically used in situations where a more detailed or technical representation of an object is required, such as in debugging or serialization scenarios."
   ]
  },
  {
   "cell_type": "code",
   "execution_count": 3,
   "id": "8b12d86a",
   "metadata": {},
   "outputs": [
    {
     "name": "stdout",
     "output_type": "stream",
     "text": [
      "Hello, my name is Alice and I am 30 years old.\n",
      "Person('Alice', '30')\n"
     ]
    }
   ],
   "source": [
    "class Person:\n",
    "    def __init__(self, name, age):\n",
    "        self.name = name\n",
    "        self.age = age\n",
    "    \n",
    "    def __str__(self):\n",
    "        return f\"Hello, my name is {self.name} and I am {self.age} years old.\"\n",
    "    \n",
    "    def __repr__(self):\n",
    "        return f\"Person('{self.name}', '{self.age}')\"\n",
    "\n",
    "person = Person(\"Alice\", 30)\n",
    "print(person)  \n",
    "print(repr(person))  "
   ]
  },
  {
   "cell_type": "markdown",
   "id": "776e9c16",
   "metadata": {},
   "source": [
    "#### Q3. In a class, how do you intercept slice operations?\n",
    "**Ans:** To intercept slice operations in a class, we can override the `__getitem__() `method. The __getitem__() method is called when an object is indexed or sliced. This slice method is provided with start integer number, stop integer number and step integer number. \n",
    "\n",
    " This method is called whenever an attempt is made to access an item in the class using square brackets ([]).This method can be used to implement custom behavior for slicing, such as returning a subset of the data or raising an error.\n"
   ]
  },
  {
   "cell_type": "code",
   "execution_count": 4,
   "id": "ed72c221",
   "metadata": {},
   "outputs": [
    {
     "name": "stdout",
     "output_type": "stream",
     "text": [
      "[2, 3]\n"
     ]
    }
   ],
   "source": [
    "class Slice:\n",
    "    def __init__(self, iterable):\n",
    "        self.iterable = iterable\n",
    "\n",
    "    def __getitem__(self, index):\n",
    "        if isinstance(index, slice):\n",
    "            return list(self.iterable)[index]\n",
    "        else:\n",
    "            return self.iterable[index]\n",
    "\n",
    "test = Slice([1, 2, 3, 4, 5])\n",
    "print(test[1:3])"
   ]
  },
  {
   "cell_type": "markdown",
   "id": "1960c808",
   "metadata": {},
   "source": [
    "#### Q4. In a class, how do you capture in-place addition?\n",
    "**Ans:** In-place addition is a common operation in computer science, where a value is added to a container without changing its size or shape. For example, adding 1 to a list [1, 2, 3] results in the list [2, 3, 4].\n",
    "\n",
    "In Python, you can capture in-place addition by overriding the `__iadd__(self, other)` method in your class definition. The` __iadd__()` method implements in-place addition by calculating the sum of two objects and assigning the result to the first operand. The method returns the new value to be assigned to the first operand. \n"
   ]
  },
  {
   "cell_type": "code",
   "execution_count": 5,
   "id": "89e37d51",
   "metadata": {},
   "outputs": [
    {
     "name": "stdout",
     "output_type": "stream",
     "text": [
      "[1, 2, 3, 4]\n"
     ]
    }
   ],
   "source": [
    "class Container:\n",
    "    def __init__(self, values):\n",
    "        self.values = values\n",
    "\n",
    "    def __iadd__(self, other):\n",
    "        self.values.append(other)\n",
    "        return self\n",
    "\n",
    "# Example usage\n",
    "c = Container([1, 2, 3])\n",
    "c += 4\n",
    "print(c.values)  "
   ]
  },
  {
   "cell_type": "markdown",
   "id": "341416c2",
   "metadata": {},
   "source": [
    "#### Q5. When is it appropriate to use operator overloading?\n",
    "**Ans:** Operator overloading is used when we want to use an operator other than its normal operation to have different meaning according to the context required in user defined function.\n",
    "Some common reasons when to use operator overloading:\n",
    "1. Consistency with existing operators\n",
    "2. Intuitive behavior\n",
    "3. Improving readability\n",
    "4. Avoiding ambiguity"
   ]
  },
  {
   "cell_type": "code",
   "execution_count": 6,
   "id": "14b44902",
   "metadata": {},
   "outputs": [
    {
     "name": "stdout",
     "output_type": "stream",
     "text": [
      "Total Number of Cars -> 300\n"
     ]
    }
   ],
   "source": [
    "class Cars:\n",
    "    def __init__(self,value):\n",
    "        self.value = value\n",
    "    def __add__(self,other):\n",
    "        return self.value+other.value\n",
    "b1 = Cars(100)\n",
    "b2 = Cars(200)\n",
    "print(f'Total Number of Cars -> {b1+b2}')"
   ]
  },
  {
   "cell_type": "code",
   "execution_count": null,
   "id": "4b5f57dc",
   "metadata": {},
   "outputs": [],
   "source": []
  }
 ],
 "metadata": {
  "kernelspec": {
   "display_name": "Python 3",
   "language": "python",
   "name": "python3"
  },
  "language_info": {
   "codemirror_mode": {
    "name": "ipython",
    "version": 3
   },
   "file_extension": ".py",
   "mimetype": "text/x-python",
   "name": "python",
   "nbconvert_exporter": "python",
   "pygments_lexer": "ipython3",
   "version": "3.9.12"
  }
 },
 "nbformat": 4,
 "nbformat_minor": 5
}
