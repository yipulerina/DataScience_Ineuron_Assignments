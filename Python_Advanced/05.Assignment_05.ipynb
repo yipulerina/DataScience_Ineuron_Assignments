{
 "cells": [
  {
   "cell_type": "markdown",
   "id": "a8e2fc40",
   "metadata": {},
   "source": [
    "# Assignment 5\n",
    "\n",
    "### Submitted by : Yipu Lerina"
   ]
  },
  {
   "cell_type": "markdown",
   "id": "3ae2f846",
   "metadata": {},
   "source": [
    "#### Q1. What is the meaning of multiple inheritance?\n",
    "**Ans:** `Multiple inheritance` in Python refers to the ability of a class to inherit attributes and methods from multiple parent classes. This means that a child class can inherit the characteristics of multiple parent classes, rather than just one.\n",
    "\n",
    "In Python, a class can inherit from multiple parents using the `multiple inheritance feature`. This is achieved by listing multiple parent classes in the class statement, separated by commas. For example:"
   ]
  },
  {
   "cell_type": "code",
   "execution_count": 1,
   "id": "e8567eae",
   "metadata": {},
   "outputs": [],
   "source": [
    "class Parent_one:\n",
    "    pass\n",
    "class Parent_two:\n",
    "    pass\n",
    "class child(Parent_one,Parent_two):\n",
    "    pass"
   ]
  },
  {
   "cell_type": "markdown",
   "id": "38440f4c",
   "metadata": {},
   "source": [
    "#### Q2. What is the concept of delegation?\n",
    "**Ans:** In Python, `delegation` refers to the mechanism of allowing one object to act on behalf of another object. This means that the first object (the delegate) can use the attributes and methods of the second object (the delegator), without having to directly access them.\n",
    "\n",
    "Delegation is often used in object-oriented programming to simplify code and promote modularity. For example, instead of having a class duplicate code for handling events, it can delegate event handling to another class that specializes in handling those events."
   ]
  },
  {
   "cell_type": "code",
   "execution_count": 3,
   "id": "d57e9c12",
   "metadata": {},
   "outputs": [
    {
     "name": "stdout",
     "output_type": "stream",
     "text": [
      "Main Class here, Anyone can Use Me!\n",
      "Main Class here, Anyone can Use Me!\n",
      "Main Class here, Anyone can Use Me!\n",
      "I am the Main Class\n"
     ]
    }
   ],
   "source": [
    "class MainClass:\n",
    "    def sayHi(self):\n",
    "        print('Main Class here, Anyone can Use Me!')\n",
    "    def whoAmI(self):\n",
    "        print('I am the Main Class')\n",
    "        \n",
    "class SubClass:\n",
    "    def __init__(self,obj):\n",
    "        self.main = obj\n",
    "    def welcome(self):\n",
    "        self.main.sayHi()\n",
    "\n",
    "main = MainClass()        \n",
    "sub = SubClass(main)\n",
    "main.sayHi()\n",
    "sub.main.sayHi()\n",
    "sub.welcome()\n",
    "sub.main.whoAmI()\n"
   ]
  },
  {
   "cell_type": "markdown",
   "id": "4600a4d4",
   "metadata": {},
   "source": [
    "#### Q3. What is the concept of composition?\n",
    "**Ans:** In Python, composition is a technique for building complex objects from smaller, reusable components. It involves creating a container object that contains instances of other objects, and defines a new interface or behavior that combines the behaviors of its component parts.\n",
    "\n",
    "Composition is the opposite of inheritance, where a child class inherits properties and behavior from a parent class. In composition, the container object does not inherit properties or behavior from its components, but rather, it \"owns\" the components and is responsible for their lifetime."
   ]
  },
  {
   "cell_type": "code",
   "execution_count": 4,
   "id": "7e779e32",
   "metadata": {},
   "outputs": [
    {
     "name": "stdout",
     "output_type": "stream",
     "text": [
      "Total Salary : 1080000\n"
     ]
    }
   ],
   "source": [
    "class Salary:\n",
    "    def __init__(self,pay):\n",
    "        self.pay = pay\n",
    "    def get_total(self):\n",
    "        return self.pay*12\n",
    "    \n",
    "class Employee:\n",
    "    def __init__(self,pay,bonus):\n",
    "        self.pay = pay\n",
    "        self.bonus = bonus\n",
    "        self.obj_salary = Salary(self.pay)\n",
    "    def annual_salary(self):\n",
    "        return f'Total Salary : {str(self.obj_salary.get_total())}'\n",
    "\n",
    "obj_emp = Employee(90000,5000)\n",
    "print(obj_emp.annual_salary())"
   ]
  },
  {
   "cell_type": "markdown",
   "id": "ce7913c2",
   "metadata": {},
   "source": [
    "#### Q4. What are bound methods and how do we use them?\n",
    "**Ans:** If a function is an attribute of class and it is accessed via the instances, they are called **bound methods**. A bound method is one that has **`self`** as its first argument. Since these are dependent on the instance of classes, these are also known as **instance methods**.\n",
    "\n",
    "In Python, a bound method is a method that is associated with a particular instance of a class. When you create an instance of a class, all of the methods defined in the class become `bound methods`, meaning they are automatically given access to the instance's attributes and can use them in their implementation.  Since these are dependent on the instance of classes, these are also known as `instance method`.\n",
    "\n",
    "`Example`:  In this example, the greet method is defined inside the Person class and takes no arguments. When we create instances of the Person class, the greet method becomes a bound method, meaning it has access to the instance's attributes (name and age). "
   ]
  },
  {
   "cell_type": "code",
   "execution_count": 5,
   "id": "dc8b18a8",
   "metadata": {},
   "outputs": [
    {
     "name": "stdout",
     "output_type": "stream",
     "text": [
      "Hello, my name is Alice and I am 30 years old.\n",
      "Hello, my name is Bob and I am 35 years old.\n"
     ]
    }
   ],
   "source": [
    "class Person:\n",
    "    def __init__(self, name, age):\n",
    "        self.name = name\n",
    "        self.age = age\n",
    "\n",
    "    def greet(self):\n",
    "        print(f\"Hello, my name is {self.name} and I am {self.age} years old.\")\n",
    "\n",
    "person1 = Person(\"Alice\", 30)\n",
    "person2 = Person(\"Bob\", 35)\n",
    "\n",
    "\n",
    "person1.greet()  \n",
    "person2.greet()  "
   ]
  },
  {
   "cell_type": "markdown",
   "id": "04f059af",
   "metadata": {},
   "source": [
    "#### Q5. What is the purpose of pseudoprivate attributes?\n",
    "**Ans:** `Pseudoprivate attributes `are a feature of the Python language that allows you to define attributes on a class that appear to be private (i.e., accessible only within the class definition), but are actually public and can be accessed from outside the class.\n",
    "\n",
    "The main purpose of pseudoprivate attributes is to provide a way to` hide internal implementation details of a class` from external users while still allowing those details to be accessed and modified by subclasses.\n",
    "\n",
    "Pseudoprivate attributes are typically used in situations where we want to enforce certain constraints or invariants on the state of an object, but  don't want to expose the underlying implementation details to external users. By defining pseudoprivate attributes, we can ensure that the state of the object is consistent across all instances of the class, while still allowing subclasses to modify that state as needed.\n",
    "\n",
    "Pseudoprivate names also prevent subclasses from accidentally redefining the internal method's names,"
   ]
  },
  {
   "cell_type": "code",
   "execution_count": 7,
   "id": "6710d4ea",
   "metadata": {},
   "outputs": [],
   "source": [
    "class Test:\n",
    "    def __init__(self):\n",
    "        self._counter = 0\n",
    "\n",
    "    def increment_counter(self):\n",
    "        self._counter += 1\n",
    "\n",
    "    def get_counter(self):\n",
    "        return self._counter"
   ]
  },
  {
   "cell_type": "code",
   "execution_count": null,
   "id": "74c245e0",
   "metadata": {},
   "outputs": [],
   "source": []
  }
 ],
 "metadata": {
  "kernelspec": {
   "display_name": "Python 3",
   "language": "python",
   "name": "python3"
  },
  "language_info": {
   "codemirror_mode": {
    "name": "ipython",
    "version": 3
   },
   "file_extension": ".py",
   "mimetype": "text/x-python",
   "name": "python",
   "nbconvert_exporter": "python",
   "pygments_lexer": "ipython3",
   "version": "3.9.12"
  }
 },
 "nbformat": 4,
 "nbformat_minor": 5
}
