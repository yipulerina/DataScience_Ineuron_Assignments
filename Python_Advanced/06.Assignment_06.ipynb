{
 "cells": [
  {
   "cell_type": "markdown",
   "id": "cdb59e56",
   "metadata": {},
   "source": [
    "# Assignment 6\n",
    "\n",
    "### Submitted by : Yipu Lerina"
   ]
  },
  {
   "cell_type": "markdown",
   "id": "9dce2ceb",
   "metadata": {},
   "source": [
    "#### Q1. Describe three applications for exception processing.\n",
    "**Ans:** Exception Processing is important to find exceptions that causes the runtime error. As runtime errors Halt the program execution when exception occurs.\n",
    "\n",
    "Exception Processing is used in Various Applications of which few examples are:\n",
    "1. `Error Handling`: Python's try-except mechanism can be used to handle errors in user input, such as invalid or missing data. For example, if a user enters invalid data into a form field, an exception can be raised to alert the program to the problem. \n",
    "\n",
    "2. `Data Validation`:  In this scenario, exceptions are used to signal that invalid data has been entered or processed. For instance, when a user enters invalid data into a form field, an exception can be thrown to notify the program that the data cannot be processed.\n",
    "\n",
    "3. `Auditing and Logging`:  When an exception occurs, the program can log detailed information about the event, including the type of exception, the affected resources, and any relevant contextual information. "
   ]
  },
  {
   "cell_type": "markdown",
   "id": "c82ae389",
   "metadata": {},
   "source": [
    "#### Q2. What happens if you don't do something extra to treat an exception?\n",
    "**Ans:** If Exceptions are not handled flow of program will be broken during the run time which might lead to a abnormal termination of the program. Inshort inability of program to handle exceptions will result in crashing of program. This is also known as `unhandled exception`.\n",
    "\n",
    "When an unhandled exception occurs, the operating system will usually display a default error message to the user, which may not provide much information about the cause of the problem. The program may also crash or freeze, leaving the user frustrated and unable to continue working."
   ]
  },
  {
   "cell_type": "markdown",
   "id": "5adab9bd",
   "metadata": {},
   "source": [
    "#### Q3. What are your options for recovering from an exception in your script?\n",
    "**Ans:**  There are several options for recovering from an exception in a Python script. Here are some examples:\n",
    "\n",
    "1. `Use try-except block`: We can use a try-except block to catch the exception and handle it appropriately. The except block will execute when an exception occurs, and you can use the `exception` object to get information about the exception that was caught.\n",
    "\n",
    "2. `Use a finally block`: A finally block will always execute, whether an exception occurs or not. We can use a finally block to perform cleanup operations, such as closing open files or releasing resources, regardless of whether an exception occurred.\n",
    "\n",
    "3.` Use the raise  statement`: If we want to re-raise an exception that was caught in a try-except block, we can use the raise  statement followed by the `exception` object. This will allow the exception to propagate up the call stack and be handled by a higher-level try-except block or exit the script altogether.\n",
    "\n",
    "4. `Use the with statement`: The `with` statement allows us to define a scope in which an exception can be caught and handled. The `with` statement ensures that any resources acquired within the scope are released, even if an exception occurs.\n",
    "\n",
    "5. `Use the assert statement`: The `assert` statement allows us to test conditions that should always be true. If the condition is not true, an AssertionError is raised. You can use the `assert` statement to test for conditions that should never occur and handle the resulting exception accordingly.\n"
   ]
  },
  {
   "cell_type": "markdown",
   "id": "d7379d80",
   "metadata": {},
   "source": [
    "#### Q4. Describe two methods for triggering exceptions in your script ?\n",
    "**Ans:** **`raise`** and **`assert`** are two methods that can be used to trigger manual exceptions in your script.\n",
    "- **`raise`** method triggers an exception if condition provided to it turns out to be True.\n",
    "- **`assert`** will let the program to continue execution if condition provided to it turns out to be True else exception will be raised"
   ]
  },
  {
   "cell_type": "code",
   "execution_count": 1,
   "id": "55ca2b5b",
   "metadata": {},
   "outputs": [
    {
     "ename": "Exception",
     "evalue": "X Value Should not exceed 5 The Provided Value of X is 10",
     "output_type": "error",
     "traceback": [
      "\u001b[1;31m---------------------------------------------------------------------------\u001b[0m",
      "\u001b[1;31mException\u001b[0m                                 Traceback (most recent call last)",
      "\u001b[1;32m<ipython-input-1-3bda0e4dbc13>\u001b[0m in \u001b[0;36m<module>\u001b[1;34m()\u001b[0m\n\u001b[0;32m      1\u001b[0m \u001b[1;31m# Example of raise\u001b[0m\u001b[1;33m\u001b[0m\u001b[1;33m\u001b[0m\u001b[1;33m\u001b[0m\u001b[0m\n\u001b[0;32m      2\u001b[0m \u001b[0mx\u001b[0m \u001b[1;33m=\u001b[0m \u001b[1;36m10\u001b[0m\u001b[1;33m\u001b[0m\u001b[1;33m\u001b[0m\u001b[0m\n\u001b[1;32m----> 3\u001b[1;33m \u001b[1;32mraise\u001b[0m \u001b[0mException\u001b[0m\u001b[1;33m(\u001b[0m\u001b[1;34mf'X Value Should not exceed 5 The Provided Value of X is {x}'\u001b[0m\u001b[1;33m)\u001b[0m\u001b[1;33m\u001b[0m\u001b[1;33m\u001b[0m\u001b[0m\n\u001b[0m",
      "\u001b[1;31mException\u001b[0m: X Value Should not exceed 5 The Provided Value of X is 10"
     ]
    }
   ],
   "source": [
    "# Example of raise\n",
    "x = 10\n",
    "raise Exception(f'X Value Should not exceed 5 The Provided Value of X is {x}')"
   ]
  },
  {
   "cell_type": "code",
   "execution_count": 2,
   "id": "b9bfe958",
   "metadata": {},
   "outputs": [
    {
     "ename": "AssertionError",
     "evalue": "2 is not equal to 4",
     "output_type": "error",
     "traceback": [
      "\u001b[1;31m---------------------------------------------------------------------------\u001b[0m",
      "\u001b[1;31mAssertionError\u001b[0m                            Traceback (most recent call last)",
      "\u001b[1;32m<ipython-input-2-b3cb1796e5b9>\u001b[0m in \u001b[0;36m<module>\u001b[1;34m()\u001b[0m\n\u001b[0;32m      1\u001b[0m \u001b[1;31m# Example of assert\u001b[0m\u001b[1;33m\u001b[0m\u001b[1;33m\u001b[0m\u001b[1;33m\u001b[0m\u001b[0m\n\u001b[1;32m----> 2\u001b[1;33m \u001b[1;32massert\u001b[0m\u001b[1;33m(\u001b[0m\u001b[1;36m2\u001b[0m\u001b[1;33m==\u001b[0m\u001b[1;36m4\u001b[0m\u001b[1;33m)\u001b[0m\u001b[1;33m,\u001b[0m \u001b[1;34m\"2 is not equal to 4\"\u001b[0m\u001b[1;33m\u001b[0m\u001b[1;33m\u001b[0m\u001b[0m\n\u001b[0m",
      "\u001b[1;31mAssertionError\u001b[0m: 2 is not equal to 4"
     ]
    }
   ],
   "source": [
    "# Example of assert\n",
    "assert(2==4), \"2 is not equal to 4\""
   ]
  },
  {
   "cell_type": "markdown",
   "id": "6335bd5c",
   "metadata": {},
   "source": [
    "#### Q5. Identify two methods for specifying actions to be executed at termination time, regardless of whether or not an exception exists.\n",
    "**Ans:** In Python, you can use both `else` and `finally` blocks to specify actions that should be executed at termination time, regardless of whether an exception exists or not.\n",
    "\n",
    "Here's a detailed explanation of each method:\n",
    "\n",
    "1. `else block`: An else block is used in conjunction with a try block to specify a block of code that should be executed if no exception occurs during the execution of the try block. If an exception does occur, the else block will not be executed. Here's an example:\n",
    "```python\n",
    "try:\n",
    "    # do something risky\n",
    "except Exception:\n",
    "    # handle the exception\n",
    "else:\n",
    "    # execute this code regardless of whether an exception occurred\n",
    "    print(\"No exception occurred.\")```\n",
    "\n",
    "    \n",
    "\n",
    "2. `finally block`: A finally block is used to specify a block of code that should be executed regardless of whether an exception occurs during the execution of the associated try block. Unlike the else block, the finally block is guaranteed to be executed even if an exception occurs during the cleanup phase. Here's an example:\n",
    "\n",
    "```python\n",
    "try:\n",
    "    # do something risky\n",
    "except Exception:\n",
    "    # handle the exception\n",
    "finally:\n",
    "    # execute this code regardless of whether an exception occurred\n",
    "    print(\"Program terminated.\")\n",
    "```"
   ]
  }
 ],
 "metadata": {
  "kernelspec": {
   "display_name": "Python 3",
   "language": "python",
   "name": "python3"
  },
  "language_info": {
   "codemirror_mode": {
    "name": "ipython",
    "version": 3
   },
   "file_extension": ".py",
   "mimetype": "text/x-python",
   "name": "python",
   "nbconvert_exporter": "python",
   "pygments_lexer": "ipython3",
   "version": "3.9.12"
  }
 },
 "nbformat": 4,
 "nbformat_minor": 5
}
