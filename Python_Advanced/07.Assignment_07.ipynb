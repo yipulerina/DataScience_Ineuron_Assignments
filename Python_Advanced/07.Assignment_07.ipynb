{
 "cells": [
  {
   "cell_type": "markdown",
   "id": "56306a9b",
   "metadata": {},
   "source": [
    "# Assignment 7\n",
    "\n",
    "### Submitted by : Yipu Lerina"
   ]
  },
  {
   "cell_type": "markdown",
   "id": "890ac6ef",
   "metadata": {},
   "source": [
    "#### Q1. What is the purpose of the try statement?\n",
    "**Ans:** **`try`** statement is used for exception handling in python. it consists of a block of risky statements which might cause an exception during runtime. if code within try block raises exception, then the exception will be reverted to the corresponding except block if multiple except blocks are present, else it willbe reverted to the default except block. In short try and except in union avoid programs from crashing during runtime due to exceptions."
   ]
  },
  {
   "cell_type": "code",
   "execution_count": 1,
   "id": "72d89888",
   "metadata": {},
   "outputs": [
    {
     "name": "stdout",
     "output_type": "stream",
     "text": [
      "Division by Zero is Not Possible\n"
     ]
    }
   ],
   "source": [
    "try:\n",
    "    print(10/0)\n",
    "except ZeroDivisionError:\n",
    "    print('Division by Zero is Not Possible')"
   ]
  },
  {
   "cell_type": "markdown",
   "id": "4edfb2b6",
   "metadata": {},
   "source": [
    "#### Q2. What are the two most popular try statement variations?\n",
    "**Ans:** \n",
    "In Python, there are several ways to use the `try`-`except` statement, but the two most popular variations are:\n",
    "\n",
    "1. The simple **`try`,`except`** statement:\n",
    "```python\n",
    "try:\n",
    "    # your code here\n",
    "except ExceptionType:\n",
    "    # error handling code here\n",
    "```\n",
    "This variation is used when you want to catch all exceptions that occur within the `try` block and handle them in a single place. The `ExceptionType` parameter specifies the type of exception that you want to catch. You can replace `ExceptionType` with any exception class or a tuple of exception classes.\n",
    "\n",
    "2. The **`try`,`except`,`finally`** statement:\n",
    "```python\n",
    "try:\n",
    "    # your code here\n",
    "except ExceptionType:\n",
    "    # error handling code here\n",
    "finally:\n",
    "    # cleanup code here\n",
    "```\n",
    "This variation adds a `finally` block to the `try`-`except` statement. The `finally` block contains code that must be executed whether an exception occurs or not. This is useful for performing cleanup operations, such as closing files or releasing resources, regardless of whether an exception was raised.\n"
   ]
  },
  {
   "cell_type": "markdown",
   "id": "c39b56b0",
   "metadata": {},
   "source": [
    "#### Q3. What is the purpose of the raise statement?\n",
    "**Ans:** The `raise` statement in Python is used to explicitly raise an exception and transfer control to a handler or exit the program. It is typically used in situations where an error or unexpected condition has occurred and the programmer wants to alert the user or caller that something went wrong.\n",
    "\n",
    "The raise statement takes one argument, which is the exception object that is being raised. This object contains information about the type of exception that was raised, as well as any additional data that may be useful for handling the exception.\n",
    "\n",
    "When the raise statement is encountered, Python stops executing the current function and begins searching for a suitable exception handler. If a matching handler is found, it is executed and the program continues running from the point where the handler was called. If no matching handler is found, the program terminates with an error message indicating that an unhandled exception occurred.."
   ]
  },
  {
   "cell_type": "markdown",
   "id": "2ea68550",
   "metadata": {},
   "source": [
    "#### Q4. What does the assert statement do, and what other statement is it like?\n",
    "**Ans:** There are few assertions that programmer always want to be true to avoid code failure. This type of requirement is fulfilled by **`assert`** statement. This statement takes a boolean condition output of which is True, Further Program Executes. if output of assert statement is False, it raises an Assertion Error."
   ]
  },
  {
   "cell_type": "code",
   "execution_count": 2,
   "id": "6df3fe6c",
   "metadata": {},
   "outputs": [
    {
     "ename": "AssertionError",
     "evalue": "this is not a valid statement",
     "output_type": "error",
     "traceback": [
      "\u001b[1;31m---------------------------------------------------------------------------\u001b[0m",
      "\u001b[1;31mAssertionError\u001b[0m                            Traceback (most recent call last)",
      "\u001b[1;32m<ipython-input-2-b7228a17c25c>\u001b[0m in \u001b[0;36m<module>\u001b[1;34m()\u001b[0m\n\u001b[1;32m----> 1\u001b[1;33m \u001b[1;32massert\u001b[0m\u001b[1;33m(\u001b[0m\u001b[1;36m2\u001b[0m \u001b[1;33m==\u001b[0m \u001b[1;36m4\u001b[0m\u001b[1;33m)\u001b[0m\u001b[1;33m,\u001b[0m \u001b[1;34mf'this is not a valid statement'\u001b[0m\u001b[1;33m\u001b[0m\u001b[1;33m\u001b[0m\u001b[0m\n\u001b[0m",
      "\u001b[1;31mAssertionError\u001b[0m: this is not a valid statement"
     ]
    }
   ],
   "source": [
    "assert(2 == 4), f'this is not a valid statement'"
   ]
  },
  {
   "cell_type": "markdown",
   "id": "1cc50d65",
   "metadata": {},
   "source": [
    "#### Q5. What is the purpose of the with/as argument, and what other statement is it like?\n",
    "**Ans:** **`with/as`** statement simplifies use of file handling in python. When we use a **`with`** statement for file reading, there is no need for programmer to explicitly takecare of activities like resource deallocation and file closing by using file.close() method. **`with`** statement itself ensures proper acquisition and release of resources. this avoids triggering of exceptions if file closing is unknowingly forgotten in the code execution.\n",
    "\n",
    "```python\n",
    "with open('sample_file.txt','w') as file:\n",
    "    file.write('Hello World')```"
   ]
  },
  {
   "cell_type": "markdown",
   "id": "c252f7a5",
   "metadata": {},
   "source": []
  }
 ],
 "metadata": {
  "kernelspec": {
   "display_name": "Python 3",
   "language": "python",
   "name": "python3"
  },
  "language_info": {
   "codemirror_mode": {
    "name": "ipython",
    "version": 3
   },
   "file_extension": ".py",
   "mimetype": "text/x-python",
   "name": "python",
   "nbconvert_exporter": "python",
   "pygments_lexer": "ipython3",
   "version": "3.9.12"
  }
 },
 "nbformat": 4,
 "nbformat_minor": 5
}
