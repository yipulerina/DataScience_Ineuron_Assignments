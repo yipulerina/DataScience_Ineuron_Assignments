{
 "cells": [
  {
   "cell_type": "markdown",
   "id": "ce6590a1",
   "metadata": {},
   "source": [
    "# Assignment 8\n",
    "\n",
    "### Submitted by : Yipu Lerina"
   ]
  },
  {
   "cell_type": "markdown",
   "id": "efb72245",
   "metadata": {},
   "source": [
    "#### Q1. What are the two latest user-defined exception constraints in Python 3.X?\n",
    "**Ans:** In Python 3.X, the two latest user-defined exception constraints are:\n",
    "\n",
    "1. `SyntaxError: cannot use parenthesized expression here` - This constraint was introduced in Python 3.6 and is raised when a parenthesized expression is used in a place where it is not allowed, such as in a keyword argument or a dictionary key.\n",
    "2. `TypeError: __init__() takes no arguments (got x)` - This constraint was introduced in Python 3.8 and is raised when a class inherits from another class and does not define an `__init__()` method, but the inherited class"
   ]
  },
  {
   "cell_type": "markdown",
   "id": "f1479448",
   "metadata": {},
   "source": [
    "#### Q2. How are class-based exceptions that have been raised matched to handlers?\n",
    "**Ans:** In python, Users can define custom exceptions by creating a new class. This exception class has to be derived, either directly or indirectly from built-in **`Exception`** class. This new exception class like other exceptions can be raised using the **`raise`** statement with an optional error message."
   ]
  },
  {
   "cell_type": "code",
   "execution_count": 1,
   "id": "648a981d",
   "metadata": {},
   "outputs": [
    {
     "ename": "Test",
     "evalue": "Too Young For Voting",
     "output_type": "error",
     "traceback": [
      "\u001b[1;31m---------------------------------------------------------------------------\u001b[0m",
      "\u001b[1;31mTest\u001b[0m                                      Traceback (most recent call last)",
      "\u001b[1;32m~\\AppData\\Local\\Temp\\ipykernel_972\\3350014417.py\u001b[0m in \u001b[0;36m<cell line: 5>\u001b[1;34m()\u001b[0m\n\u001b[0;32m      3\u001b[0m         \u001b[0mself\u001b[0m\u001b[1;33m.\u001b[0m\u001b[0mmsg\u001b[0m \u001b[1;33m=\u001b[0m \u001b[0mmsg\u001b[0m\u001b[1;33m\u001b[0m\u001b[1;33m\u001b[0m\u001b[0m\n\u001b[0;32m      4\u001b[0m \u001b[0mage\u001b[0m \u001b[1;33m=\u001b[0m \u001b[1;36m12\u001b[0m\u001b[1;33m\u001b[0m\u001b[1;33m\u001b[0m\u001b[0m\n\u001b[1;32m----> 5\u001b[1;33m \u001b[1;32mif\u001b[0m \u001b[0mage\u001b[0m \u001b[1;33m<=\u001b[0m \u001b[1;36m18\u001b[0m\u001b[1;33m:\u001b[0m \u001b[1;32mraise\u001b[0m \u001b[0mTest\u001b[0m\u001b[1;33m(\u001b[0m\u001b[1;34m'Too Young For Voting'\u001b[0m\u001b[1;33m)\u001b[0m\u001b[1;33m\u001b[0m\u001b[1;33m\u001b[0m\u001b[0m\n\u001b[0m",
      "\u001b[1;31mTest\u001b[0m: Too Young For Voting"
     ]
    }
   ],
   "source": [
    "class Test(Exception):\n",
    "    def __init__(self,msg):\n",
    "        self.msg = msg\n",
    "age = 12\n",
    "if age <= 18: raise Test('Too Young For Voting')"
   ]
  },
  {
   "cell_type": "markdown",
   "id": "15ce7b10",
   "metadata": {},
   "source": [
    "#### Q3. Describe two methods for attaching context information to exception artefacts ?\n",
    "**Ans:** The **`process()`** method of LoggerAdapter is where the contextual information is added to the logging output. its passes the message and keyword arguments of the logging call, and it passes back modified versions of these to use in the call to the underlying logger.\n",
    "\n",
    "Other method that can be used is **`exception()`**, Logs a messgae with level ERROR on this logger. The arguments are interpreted as for **`debug()`**. Exception info is added to the logging message."
   ]
  },
  {
   "cell_type": "markdown",
   "id": "7fbfd775",
   "metadata": {},
   "source": [
    "#### Q4. Describe two methods for specifying the text of an exception object's error message ?\n",
    "**Ans:** **`raise`** and **`assert`** are two methods for specifying the text of an exception object's error message.**`raise`** statement is used to trigger explicit exception, if certain condition is not as per requirement of programmer. it helps in triggering exception as per need of programmer and logic.\n",
    "\n",
    "There are few assertions that programmer always want to be True to avoid code failure. This type of requirment is fullfilled by **`assert`** statement. This statement takes a Boolean Condition output of which if True, further program executes. if output of assert statement is False it raises an **`Assertion Error`**."
   ]
  },
  {
   "cell_type": "markdown",
   "id": "0855de9b",
   "metadata": {},
   "source": [
    "#### Q5. Why do you no longer use string-based exceptions?\n",
    "**Ans:** Here are some reasons why we do not use string-based exceptions:\n",
    "1. `Lack of structure`: String-based exceptions don't provide much structure, which can make it difficult to extract meaningful information from them. For example, if you have multiple strings that represent different error messages, it can be hard to tell which error message corresponds to which exception.\n",
    "\n",
    "2.  `Limited data capacity`: Strings have limited capacity to carry data. If you need to include a lot of information with your exception, such as debug logs or detailed error messages, using a string may not be practical.\n",
    "\n",
    "3. `No type safety`: Because strings are untyped, there's no way to ensure that the data they contain matches a specific format or structure. This can lead to errors downstream when trying to process or analyze the exception data.\n",
    "\n",
    "4. `Difficulty in serialization`: Serializing and deserializing strings can be tricky, especially if the strings contain special characters or binary data. This can cause issues when passing exceptions between processes or storing them in databases.\n",
    "\n",
    "5. ` Poor performance`: In large-scale applications, throwing and catching thousands of string-based exceptions per second can become expensive. This is because strings require memory allocation and copying, which can slow down the application."
   ]
  }
 ],
 "metadata": {
  "kernelspec": {
   "display_name": "Python 3",
   "language": "python",
   "name": "python3"
  },
  "language_info": {
   "codemirror_mode": {
    "name": "ipython",
    "version": 3
   },
   "file_extension": ".py",
   "mimetype": "text/x-python",
   "name": "python",
   "nbconvert_exporter": "python",
   "pygments_lexer": "ipython3",
   "version": "3.9.12"
  }
 },
 "nbformat": 4,
 "nbformat_minor": 5
}
