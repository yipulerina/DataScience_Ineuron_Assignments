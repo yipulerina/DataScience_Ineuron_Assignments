{
 "cells": [
  {
   "cell_type": "markdown",
   "id": "344e8e27",
   "metadata": {},
   "source": [
    "# Assignment 11\n",
    "\n",
    "### Submitted by : Yipu Lerina"
   ]
  },
  {
   "cell_type": "markdown",
   "id": "11489fdc",
   "metadata": {},
   "source": [
    "#### Q1. What is the concept of a metaclass?\n",
    "**Ans:** Metaclass in Python is a class of a class that defines how a class behaves. A class is itself a instance of Metaclass, and any Instance of Class in Python is an Instance of type metaclass. E.g. Type of of `int`, `str`, `float`, `list`, `tuple` and many more is of metaclass type. "
   ]
  },
  {
   "cell_type": "markdown",
   "id": "a7c66d6f",
   "metadata": {},
   "source": [
    "#### Q2. What is the best way to declare a class's metaclass?\n",
    "**Ans:** A way to declare a class’ metaclass is by using **`metaclass`** keyword in class definition."
   ]
  },
  {
   "cell_type": "code",
   "execution_count": 1,
   "id": "e1a13053",
   "metadata": {},
   "outputs": [
    {
     "name": "stdout",
     "output_type": "stream",
     "text": [
      "<class 'type'>\n",
      "<class '__main__.meta'>\n"
     ]
    }
   ],
   "source": [
    "class meta(type):\n",
    "    pass\n",
    "class class_meta(metaclass=meta):\n",
    "    pass\n",
    "print(type(meta))\n",
    "print(type(class_meta))"
   ]
  },
  {
   "cell_type": "markdown",
   "id": "938e3147",
   "metadata": {},
   "source": [
    "#### Q3. How do class decorators overlap with metaclasses for handling classes ?\n",
    "**Ans:** Class decorators and metaclasses are both mechanisms for modifying or extending the behavior of classes in Python, but they serve different purposes and operate at different levels.\n",
    "\n",
    "Class decorators are a way to modify or extend the behavior of a class without changing its source code. They allow you to add new functionality to a class without subclassing it or modifying its implementation. Decorators work by wrapping the class object itself, so they can intercept and modify its behavior before it is used. Class decorators are typically used to implement cross-cutting concerns such as logging, authentication, or caching.\n",
    "\n",
    "Metaclasses, on the other hand, are classes that define how a class should behave. A metaclass is essentially a factory function that creates a class. When a class is defined, Python calls the metaclass's __new__ method to create a new class object. The metaclass can then customize the class's behavior by modifying its attributes or implementing special methods. Metaclasses are useful when you want to change the fundamental nature of a class, such as adding automatic attribute validation or implementing a custom inheritance model.\n"
   ]
  },
  {
   "cell_type": "markdown",
   "id": "3f57ffac",
   "metadata": {},
   "source": [
    "#### Q4. How do class decorators overlap with metaclasses for handling instances?\n",
    "**Ans:**  Class decorators and metaclasses can also be used to handle instances, but they differ in their approach and purpose.\n",
    "\n",
    "Metaclasses are classes that define how instances of a class should behave. When an instance of a class is created, Python calls the metaclass's __new__ method to create the instance. The metaclass can then customize the instance's behavior by modifying its attributes or implementing special methods. Metaclasses are useful when you want to add behavior to all instances of a class, such as automatically calling a certain method after instantiation or adding custom initialization logic.\n",
    "\n",
    "Class decorators, on the other hand, are functions that take a class as an argument and return a modified class. Class decorators can be used to add behavior to individual instances of a class, but they do so by modifying the class itself rather than the instance. When a class is decorated, the decorator function is called with the class as an argument, and the decorator function returns a new class that \"wraps\" the original class. This new class has the same name as the original class, but it contains additional attributes or methods that were added by the decorator.\n",
    "\n",
    "Here's an example of how class decorators and metaclasses can be used to handle instances:"
   ]
  },
  {
   "cell_type": "code",
   "execution_count": null,
   "id": "0981d86d",
   "metadata": {},
   "outputs": [],
   "source": []
  }
 ],
 "metadata": {
  "kernelspec": {
   "display_name": "Python 3",
   "language": "python",
   "name": "python3"
  },
  "language_info": {
   "codemirror_mode": {
    "name": "ipython",
    "version": 3
   },
   "file_extension": ".py",
   "mimetype": "text/x-python",
   "name": "python",
   "nbconvert_exporter": "python",
   "pygments_lexer": "ipython3",
   "version": "3.9.12"
  }
 },
 "nbformat": 4,
 "nbformat_minor": 5
}
