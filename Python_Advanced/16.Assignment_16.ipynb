{
 "cells": [
  {
   "cell_type": "markdown",
   "id": "1b34bd2a",
   "metadata": {},
   "source": [
    "# Assignment 16\n",
    "\n",
    "### Submitted by : Yipu Lerina"
   ]
  },
  {
   "cell_type": "markdown",
   "id": "f8313cc0",
   "metadata": {},
   "source": [
    "#### Q1. What is the benefit of regular expressions?\n",
    "**Ans:** Regular Expressions, also known as **`regex`** or **`regexp`**, are used to match strings of text such as particular characters, words, or patterns of characters. It means that we can match and extract any string pattern from the text with the help of regular expressions. it helps the programmers to Write less and cleaner code. it also avoids multiple use of **`if/else`** statements."
   ]
  },
  {
   "cell_type": "markdown",
   "id": "3ec69ca0",
   "metadata": {},
   "source": [
    "#### Q2. Describe the difference between the effects of \"(ab)c+\" and \"a(bc)+\" Which of these, if any, is the unqualified pattern \"abc+\"?\n",
    "**Ans:** Both **`(ab)c+`** and **`a(bc)+`** are valid patterns. the difference between both these patterns is in **`(ab)c+`** **`ab`** is group whereas in **`a(bc)+`** **`bc`** is a group."
   ]
  },
  {
   "cell_type": "markdown",
   "id": "2b4c8728",
   "metadata": {},
   "source": [
    "#### Q3. How much do you need to use the following sentence while using regular expressions?\n",
    "**`import re`**  \n",
    "\n",
    "**Ans:** **`import re`** statement always has to be imported before using regular expressions."
   ]
  },
  {
   "cell_type": "markdown",
   "id": "2338be46",
   "metadata": {},
   "source": [
    "#### Q4. Which characters have special significance in square brackets when expressing a range, and under what circumstances?\n",
    "**Ans:** The Characters **`.`,`*`,`?`,`^`**,or,**`()`**, have a special signiface when used with square brackets. They need not be be explicitly escaped by **`\\`** as in case of pattern texts in a raw string."
   ]
  },
  {
   "cell_type": "markdown",
   "id": "bc0c3bef",
   "metadata": {},
   "source": [
    "#### Q5. How does compiling a regular-expression object benefit you?\n",
    "**Ans:** \n",
    "`Improved performance`: Compiled regular expressions are faster and more efficient than non-compiled ones because the regex engine doesn't have to parse the pattern every time it's used. This can make a significant difference in performance, especially when working with large strings or high-traffic web applications.\n",
    "\n",
    "`Better error handling`: When a regular expression is compiled, it's checked for syntax errors and invalid patterns before it's used. This helps catch mistakes early and prevents unexpected behavior or crashes during"
   ]
  },
  {
   "cell_type": "markdown",
   "id": "c2885976",
   "metadata": {},
   "source": [
    "#### Q6. What are some examples of how to use the match object returned by re.match and re.search?\n",
    "**Ans:** The **`re.search()`** and **`re.match()`** both are functions of re module in python. These functions are very efficient and fast for searching in strings. The function searches for some substring in a string and returns a match object if found, else it returns none.\n",
    "\n",
    "There is a difference between the use of both functions. Both return the first match of a substring found in the string, but **`re.match()`** searches only from the beginning of the string and return match object if found. But if a match of substring is found somewhere in the middle of the string, it returns none. \n",
    "\n",
    "While **`re.search()`** searches for the whole string even if the string contains multi-lines and tries to find a match of the substring in all the lines of string"
   ]
  },
  {
   "cell_type": "code",
   "execution_count": 1,
   "id": "358eb508",
   "metadata": {},
   "outputs": [
    {
     "name": "stdout",
     "output_type": "stream",
     "text": [
      "<_sre.SRE_Match object; span=(66, 72), match='string'>\n",
      "None\n",
      "<_sre.SRE_Match object; span=(0, 6), match='string'>\n",
      "<_sre.SRE_Match object; span=(0, 6), match='string'>\n"
     ]
    }
   ],
   "source": [
    "import re\n",
    "Substring ='string' \n",
    "String1 ='We are learning regex with geeksforgeeks regex is very useful for string matching. It is fast too.' \n",
    "String2 ='string We are learning regex with geeksforgeeks regex is very useful for string matching. It is fast too.'\n",
    "print(re.search(Substring, String1, re.IGNORECASE))\n",
    "print(re.match(Substring, String1, re.IGNORECASE))\n",
    "print(re.search(Substring, String2, re.IGNORECASE))\n",
    "print(re.match(Substring, String2, re.IGNORECASE))"
   ]
  },
  {
   "cell_type": "markdown",
   "id": "babed21c",
   "metadata": {},
   "source": [
    "#### Q7. What is the difference between using a vertical bar (|) as an alteration and using square brackets as a character set?\n",
    "**Ans:**  In regular expressions, both vertical bars `|` and square brackets `[]` can be used to specify alternatives or character sets, but there are differences in how they work and what they represent.\n",
    "\n",
    "A vertical bar `|` is used to separate alternative patterns. It matches either the pattern before or the pattern after the bar. For example, `a|b` matches either \"a\" or \"b\". This can be read as \"a or b\".\n",
    "\n",
    "On the other hand, square brackets `[]` are used to define a character class or a set of characters. They match any single character that is included in the class. For example, `[abc]` matches any of the characters \"a\", \"b\", or \"c\". This can be read as \"any of the characters a, b, or c\".\n",
    "\n",
    "Here are some key differences between using vertical bars and square brackets:\n",
    "\n",
    "1. Alternatives vs. Character Classes: Vertical bars are used to specify alternatives, whereas square brackets define a character class.\n",
    "\n",
    "2. Patterns vs. Characters: Vertical bars separate patterns, while square brackets enclose a set of characters.\n",
    "3. Matching: A vertical bar matches either the pattern before or after it, while square brackets match any single character that is included in the character class.\n",
    "\n",
    "4. Order: The order of the alternatives separated by vertical bars matters, while the order of characters in a character class defined by square brackets does not matter.\n",
    "\n",
    "5. Range: Vertical bars can be used to specify ranges of characters by using the `-` character, while square brackets can be used to specify ranges of characters using the `-` character, but only if the first character in the range is a hyphen (-).\n",
    "\n",
    "6. Escaping: Special characters in a character class defined by square brackets do not need to be escaped, while special characters in a pattern separated by vertical bars do need to be escaped.\n",
    "\n",
    "7. Readability: Square brackets are often considered more readable than vertical bars, especially when specifying a large number of alternatives.\n",
    "\n"
   ]
  },
  {
   "cell_type": "markdown",
   "id": "aad2feb4",
   "metadata": {},
   "source": [
    "#### Q8. In regular-expression search patterns, why is it necessary to use the raw-string indicator (r)? In   replacement strings?\n",
    "**Ans:** The raw-string indicator (r) is not strictly necessary in all regular expression search patterns, but it is often used to avoid confusion with special characters in the pattern.\n",
    "\n",
    "In Python, a regular expression pattern is typically a string, and certain characters in the string have special meanings. For example, . matches any single character, \\w matches any word character (alphanumeric plus underscore), and * matches zero or more occurrences of the preceding character or group.\n",
    "\n",
    "If you want to match these characters literally, without their special meaning, you can use the raw-string indicator (r). For example, r'.' matches a literal dot, r'\\w' matches a literal word character, and r'*' matches a literal star.\n",
    "\n",
    "Using the raw-string indicator can make the pattern clearer and easier to read, especially when working with files or strings that contain special characters. Without the r, it can be difficult to tell whether a character is being used literately or has a special meaning."
   ]
  }
 ],
 "metadata": {
  "kernelspec": {
   "display_name": "Python 3",
   "language": "python",
   "name": "python3"
  },
  "language_info": {
   "codemirror_mode": {
    "name": "ipython",
    "version": 3
   },
   "file_extension": ".py",
   "mimetype": "text/x-python",
   "name": "python",
   "nbconvert_exporter": "python",
   "pygments_lexer": "ipython3",
   "version": "3.9.12"
  }
 },
 "nbformat": 4,
 "nbformat_minor": 5
}
