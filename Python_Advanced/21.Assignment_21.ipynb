{
 "cells": [
  {
   "cell_type": "markdown",
   "id": "995281bf",
   "metadata": {},
   "source": [
    "# Assignment 21 \n",
    "\n",
    "### Submitted by : Yipu Lerina"
   ]
  },
  {
   "cell_type": "markdown",
   "id": "65a92b4a",
   "metadata": {},
   "source": [
    "#### Q1. What is a probability distribution, exactly? If the values are meant to be random, how can you predict them at all ?\n",
    "**Ans:** A probability distribution describes how a random variable is distributed.\n",
    "\n",
    "It tells us which values a random variable is most likely to take on and which values are less likely. Based on the previous data and the occurences of the random event, we can predict the outcome in terms of probabilities. "
   ]
  },
  {
   "cell_type": "markdown",
   "id": "06c8734d",
   "metadata": {},
   "source": [
    "#### Q2. Is there a distinction between true random numbers and pseudo-random numbers, if there is one? Why are the latter considered “good enough”?\n",
    "**Ans:** : True Random Numbers are true physical values while pseudo-random numbers are generated internally by a program . Latter is considered good enough as they have sort of uniform\n",
    "distribution. "
   ]
  },
  {
   "cell_type": "markdown",
   "id": "1e19043f",
   "metadata": {},
   "source": [
    "#### Q3. What are the two main factors that influence the behaviour of a \"normal\" probability distribution ?\n",
    "**Ans:** Normal Probability Distribution are influenced by two factors mean and the variance. "
   ]
  },
  {
   "cell_type": "markdown",
   "id": "e75110f5",
   "metadata": {},
   "source": [
    "#### Q4. Provide a real-life example of a normal distribution ?\n",
    "**Ans:**One real-life example of a normal distribution is the heights of adult humans. If we were to measure the heights of a large sample of adult humans, we would expect to see a distribution that is approximately bell-shaped, with most people falling around the average height and fewer people at the extreme heights."
   ]
  },
  {
   "cell_type": "markdown",
   "id": "eba32f70",
   "metadata": {},
   "source": [
    "#### Q5. In the short term, how can you expect a probability distribution to behave? What do you think will happen as the number of trials grows ?\n",
    "**Ans:** In the short term, the behavior of a probability distribution can be unpredictable and may not necessarily follow the expected long-term patterns. This is because the short-term behavior of a random process is heavily influenced by chance and variability.\n",
    "\n",
    "In the case of a normal distribution, the Central Limit Theorem states that the distribution of the sum of a large number of independent and identically distributed random variables will approximate a normal distribution, regardless of the underlying distribution of the individual variables. However, this theorem does not provide any guarantees about the behavior of the distribution in the short term.\n",
    "\n",
    "In practice, when dealing with a small number of trials or observations, it is not uncommon to see deviations from the expected long-term behavior of a probability distribution. For example, even though the normal distribution has a symmetrical bell-shape, it is possible to observe skewed or bimodal distributions in the short term due to chance fluctuations.\n",
    "\n",
    "As the number of trials grows, the observed distribution is likely to become more stable and start to resemble the expected long-term behavior of the probability distribution. This is known as the law of large numbers, which states that the average of a large number of independent and identically distributed random variables will converge to the expected value of the distribution."
   ]
  },
  {
   "cell_type": "markdown",
   "id": "82eba016",
   "metadata": {},
   "source": [
    "#### Q6. What kind of object can be shuffled by using random.shuffle ?\n",
    "**Ans:** lists (`list`), strings (`str`) and tuples (`tuple`) objects can be shuffled by using `random.shuffle`."
   ]
  },
  {
   "cell_type": "markdown",
   "id": "c1ba9930",
   "metadata": {},
   "source": [
    "#### Q7. Describe the math package's general categories of functions ?\n",
    "**Ans:** The Math package's general categories of functions are:\n",
    "1. Trigonometric functions\n",
    "2. Quadratic functions\n",
    "3. Exponential functions\n",
    "4. Hyperbolic functions\n",
    "5. Periodic functions\n",
    "6. Arithmetic functions\n",
    "7. Logarithimic functions\n",
    "8. Conversions to Integer"
   ]
  },
  {
   "cell_type": "markdown",
   "id": "cbab2356",
   "metadata": {},
   "source": [
    "#### Q8. What is the relationship between exponentiation and logarithms ?\n",
    "**Ans:**Exponentiation and logarithms are closely related mathematical operations that are inverse to each other.\n",
    "\n",
    "Exponentiation is the operation of raising a base number to a power, denoted by b^n, where 'b' is the base and 'n' is the power. It means that the base is multiplied by itself 'n' times. For example, 2^3 = 2 × 2 × 2 = 8.\n",
    "\n",
    "Logarithms, on the other hand, are the inverse operation of exponentiation. It is the power to which a base must be raised to produce a given value. Logarithms are denoted by logb(x), where 'b' is the base and 'x' is the value. For example, log2(8) = 3, because 2^3 = 8.\n",
    "\n",
    "The relationship between exponentiation and logarithms can be expressed mathematically as:\n",
    "\n",
    "logb(x) = y if and only if b^y = "
   ]
  },
  {
   "cell_type": "markdown",
   "id": "43787cec",
   "metadata": {},
   "source": [
    "#### Q9. What are the three logarithmic functions that Python supports ?\n",
    "**Ans:** The Three Logarithmic Functions that Python supports are:\n",
    "1. `log2(x)` - logarithmic value of x to base 2\n",
    "2. `log10(x)` - logarithmic value of x to base 10 \n",
    "3. `log1p(a)` - This function is used to compute logarithm(1+a) . "
   ]
  }
 ],
 "metadata": {
  "kernelspec": {
   "display_name": "Python 3",
   "language": "python",
   "name": "python3"
  },
  "language_info": {
   "codemirror_mode": {
    "name": "ipython",
    "version": 3
   },
   "file_extension": ".py",
   "mimetype": "text/x-python",
   "name": "python",
   "nbconvert_exporter": "python",
   "pygments_lexer": "ipython3",
   "version": "3.8.8"
  }
 },
 "nbformat": 4,
 "nbformat_minor": 5
}
