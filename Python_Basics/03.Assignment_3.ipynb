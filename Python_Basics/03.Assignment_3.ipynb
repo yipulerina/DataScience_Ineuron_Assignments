{
 "cells": [
  {
   "attachments": {},
   "cell_type": "markdown",
   "metadata": {},
   "source": [
    "# Assignment 3\n",
    "\n",
    "### Submitted by: Yipu Lerina"
   ]
  },
  {
   "attachments": {},
   "cell_type": "markdown",
   "metadata": {},
   "source": [
    "#### 1. Why are functions advantageous to have in your programs?\n",
    "**Ans:** \n",
    "1. Functions reduce the need for duplicate code. This makes programs shorter, easier to read, and easier to update. The main advantage of functions is code Reusability.\n",
    "2. Increases program readability.\n",
    "3. Divide a complex problem into simpler ones.\n",
    "4. Reduces chances of error.\n",
    "5. Modifying a program becomes easier by using function"
   ]
  },
  {
   "attachments": {},
   "cell_type": "markdown",
   "metadata": {},
   "source": [
    "#### 2. When does the code in a function run: when it's specified or when it's called?\n",
    "**Ans:**The code in a function executes when the function is called, not when the function is specified. When a function is \"called\" the program \"leaves\" the current section of code and begins to execute the first line inside the function. Example is mentioned below:"
   ]
  },
  {
   "cell_type": "code",
   "execution_count": 3,
   "metadata": {},
   "outputs": [
    {
     "name": "stdout",
     "output_type": "stream",
     "text": [
      "Sudanshu iNeuron\n"
     ]
    }
   ],
   "source": [
    "\n",
    "def function(name):\n",
    "  print(name + \" iNeuron\")\n",
    "\n",
    "function(\"Sudanshu\")"
   ]
  },
  {
   "attachments": {},
   "cell_type": "markdown",
   "metadata": {},
   "source": [
    "#### 3. What statement creates a function?\n",
    "**Ans:** The \"def\" statement defines a function  "
   ]
  },
  {
   "cell_type": "code",
   "execution_count": 2,
   "metadata": {},
   "outputs": [
    {
     "name": "stdout",
     "output_type": "stream",
     "text": [
      "This is a function\n"
     ]
    }
   ],
   "source": [
    "# Example:\n",
    "def function():\n",
    "    print(\"This is a function\")\n",
    "    \n",
    "function()"
   ]
  },
  {
   "attachments": {},
   "cell_type": "markdown",
   "metadata": {},
   "source": [
    "#### 4. What is the difference between a function and a function call?\n",
    "**Ans:**  A function is a block of code that does a particular operation and returns a result. It usually accepts inputs as parameters and returns a result. The parameters are not mandatory. A function call is the code used to pass control to a function."
   ]
  },
  {
   "cell_type": "code",
   "execution_count": 8,
   "metadata": {},
   "outputs": [
    {
     "data": {
      "text/plain": [
       "9"
      ]
     },
     "execution_count": 8,
     "metadata": {},
     "output_type": "execute_result"
    }
   ],
   "source": [
    "#Function\n",
    "def add(x,y):\n",
    "  \treturn x + y\n",
    "\n",
    "#Function Call\n",
    "add(4, 5)"
   ]
  },
  {
   "attachments": {},
   "cell_type": "markdown",
   "metadata": {},
   "source": [
    "#### 5. How many global scopes are there in a Python program? How many local scopes?\n",
    "**Ans:** There is one global scope in python program, and a local scope is created whenever a function is called. "
   ]
  },
  {
   "cell_type": "code",
   "execution_count": 9,
   "metadata": {},
   "outputs": [
    {
     "name": "stdout",
     "output_type": "stream",
     "text": [
      "300\n"
     ]
    }
   ],
   "source": [
    "# A variable created inside a function belongs to the local scope of that function, and can only be used inside that function.\n",
    "\n",
    "def myfunc():\n",
    "  x = 300\n",
    "  print(x)\n",
    "\n",
    "myfunc()"
   ]
  },
  {
   "cell_type": "code",
   "execution_count": 10,
   "metadata": {},
   "outputs": [
    {
     "name": "stdout",
     "output_type": "stream",
     "text": [
      "300\n",
      "300\n"
     ]
    }
   ],
   "source": [
    "# A variable created outside of a function is global and can be used by anyone:\n",
    "\n",
    "x = 300\n",
    "\n",
    "def myfunc():\n",
    "  print(x)\n",
    "\n",
    "myfunc()\n",
    "\n",
    "print(x)"
   ]
  },
  {
   "attachments": {},
   "cell_type": "markdown",
   "metadata": {},
   "source": [
    "#### 6. What happens to variables in a local scope when the function call returns?\n",
    "**Ans:** When a function returns, the local scope is destroyed, and all the variables in it are forgotten. A local variable becomes undefined after the function call completes"
   ]
  },
  {
   "attachments": {},
   "cell_type": "markdown",
   "metadata": {},
   "source": [
    "#### 7. What is the concept of a return value? Is it possible to have a return value in an expression?\n",
    "**Ans**: The Python return statement is a key component of functions and methods. We can use the return statement to make functions send Python objects back to the caller code. These objects are known as the function’s return value. A return value is the value that a function call evaluates to. Like any value, a return value can be used as part of an expression. "
   ]
  },
  {
   "attachments": {},
   "cell_type": "markdown",
   "metadata": {},
   "source": [
    "#### 8. If a function does not have a return statement, what is the return value of a call to that function?\n",
    "**Ans:** If there is no return statement for a function, its return value is \"None\". The function always returns None if explicit return is not written."
   ]
  },
  {
   "attachments": {},
   "cell_type": "markdown",
   "metadata": {},
   "source": [
    "#### 9. How do you make a function variable refer to the global variable?\n",
    "**Ans:** A global statement will force a variable in a function to refer to the global variable.\n",
    "If you want to refer to a global variable in a function, you can use the \"global\" keyword to declare which variables are  global."
   ]
  },
  {
   "attachments": {},
   "cell_type": "markdown",
   "metadata": {},
   "source": [
    "#### 10. What is the data type of None?\n",
    "**Ans:** The data type of None is \"NoneType\"."
   ]
  },
  {
   "attachments": {},
   "cell_type": "markdown",
   "metadata": {},
   "source": [
    "#### 11. What does the sentence import areallyourpetsnamederic do?\n",
    "**Ans:** That import statement imports a module named areallyourpetsnamederic."
   ]
  },
  {
   "attachments": {},
   "cell_type": "markdown",
   "metadata": {},
   "source": [
    "#### 12. If you had a bacon() feature in a spam module, what would you call it after importing spam?\n",
    "**Ans:** This function can be called with \"spam.bacon()\""
   ]
  },
  {
   "attachments": {},
   "cell_type": "markdown",
   "metadata": {},
   "source": [
    "#### 13. What can you do to save a programme from crashing if it encounters an error?\n",
    "**Ans:** We can place the line of code that might cause an error in a \"try\" clause and use \"except\" block to handle the error as mentioned below:"
   ]
  },
  {
   "cell_type": "code",
   "execution_count": 11,
   "metadata": {},
   "outputs": [
    {
     "name": "stdout",
     "output_type": "stream",
     "text": [
      "300\n"
     ]
    }
   ],
   "source": [
    "try:\n",
    "  print(x)\n",
    "except:\n",
    "  print(\"An exception occurred\") "
   ]
  },
  {
   "attachments": {},
   "cell_type": "markdown",
   "metadata": {},
   "source": [
    "#### 14. What is the purpose of the try clause? What is the purpose of the except clause?\n",
    "**Ans:** The code that could potentially cause an error goes in the \"try\" clause. The code that executes if an error happens goes in the \"except\" clause."
   ]
  },
  {
   "cell_type": "code",
   "execution_count": 13,
   "metadata": {},
   "outputs": [
    {
     "name": "stdout",
     "output_type": "stream",
     "text": [
      "100\n"
     ]
    }
   ],
   "source": [
    "x = 100\n",
    "try:\n",
    "  print(x)\n",
    "except NameError:\n",
    "  print(\"Variable x is not defined\")\n",
    "except:\n",
    "  print(\"Something else went wrong\") "
   ]
  },
  {
   "cell_type": "code",
   "execution_count": null,
   "metadata": {},
   "outputs": [],
   "source": []
  }
 ],
 "metadata": {
  "kernelspec": {
   "display_name": "base",
   "language": "python",
   "name": "python3"
  },
  "language_info": {
   "codemirror_mode": {
    "name": "ipython",
    "version": 3
   },
   "file_extension": ".py",
   "mimetype": "text/x-python",
   "name": "python",
   "nbconvert_exporter": "python",
   "pygments_lexer": "ipython3",
   "version": "3.9.12"
  },
  "orig_nbformat": 4
 },
 "nbformat": 4,
 "nbformat_minor": 2
}
