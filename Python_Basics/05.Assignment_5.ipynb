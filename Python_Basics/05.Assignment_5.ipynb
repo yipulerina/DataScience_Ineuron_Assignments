{
 "cells": [
  {
   "attachments": {},
   "cell_type": "markdown",
   "metadata": {},
   "source": [
    "# Assignment 5\n",
    "\n",
    "### Submitted by: Yipu Lerina"
   ]
  },
  {
   "attachments": {},
   "cell_type": "markdown",
   "metadata": {},
   "source": [
    "#### 1.What does an empty dictionary's code look like?\n",
    "**Ans:** An empty dictionary is often represented by two empty curly brackets  \n",
    "`d = {}` or `d = dict()`"
   ]
  },
  {
   "attachments": {},
   "cell_type": "markdown",
   "metadata": {},
   "source": [
    "#### 2.what is the value of dictionary value with key 'foo' and the value 42 ?\n",
    "**Ans:** `{'foo':42}`"
   ]
  },
  {
   "attachments": {},
   "cell_type": "markdown",
   "metadata": {},
   "source": [
    "#### 3.What is the most significant distinction between a dictionary and a list?\n",
    "**Ans:** Dictionaries are represented by `{}` where as listed are represented by `[]`  \n",
    " The Items stored in a dictionary are Unordered , while the items in a list are ordered"
   ]
  },
  {
   "attachments": {},
   "cell_type": "markdown",
   "metadata": {},
   "source": [
    "#### 4.What happens if you try to access spam ['foo'] if spam is {'bar':100} ?\n",
    "**Ans:** we will get a keyError `KeyError: 'foo'`"
   ]
  },
  {
   "attachments": {},
   "cell_type": "markdown",
   "metadata": {},
   "source": [
    "#### 5.If a dictionary is stored in spam,what is the difference between the expressions 'cat' in spam and 'cat' in spam.keys() ?\n",
    "**Ans:** There is no difference . The operator checks whether a value exits as a key in the dictionary or not"
   ]
  },
  {
   "attachments": {},
   "cell_type": "markdown",
   "metadata": {},
   "source": [
    "#### 6.if a dictionary is stored in spam,what is the difference between the expressions 'cat' in spam and 'cat' in spam.values() ?\n",
    "**Ans:** 'cat' in spam checks whether there is a 'cat' key in the dictionary, while 'cat' in spam.values() checks whether there is a value 'cat' for one of the keys in spam."
   ]
  },
  {
   "attachments": {},
   "cell_type": "markdown",
   "metadata": {},
   "source": [
    "#### 7.what is a shortcut for the following code ?\n",
    "`if 'color' not in spam:\n",
    "    spam['color'] ='black'`\n",
    "    \n",
    "**Ans:** `spam.setdefault('color','black')`"
   ]
  },
  {
   "attachments": {},
   "cell_type": "markdown",
   "metadata": {},
   "source": [
    "#### 8.How do you 'pretty print' dictionary values using which modules and function ?\n",
    "**Ans:** We can pretty print a dictionary using three functions\n",
    "1. by using pprint() function of pprint module\n",
    "    * **Note:** pprint() function does not prettify nested dictionaries\n",
    "\n",
    "2. by using dumps() method of json module\n",
    "\n",
    "3. by using dumps() method of yaml module"
   ]
  },
  {
   "cell_type": "code",
   "execution_count": 2,
   "metadata": {},
   "outputs": [],
   "source": [
    "#Example\n",
    "ndict = [\n",
    "  {'Name': 'Superman', 'Age': '45', 'Residence': {'Country':'USA', 'City': 'New York'}},\n",
    "  {'Name': 'Batman', 'Age': '37', 'Residence': {'Country':'USA', 'City': 'Vegas'}},\n",
    "  {'Name': 'Iron Man', 'Age': '35', 'Residence': {'Country':'Japan', 'City': 'Osaka'}},\n",
    "  {'Name': 'Hero', 'Age': '25', 'Residence': {'Country':'India', 'City': 'Delhi'}}\n",
    "]"
   ]
  },
  {
   "cell_type": "code",
   "execution_count": 5,
   "metadata": {},
   "outputs": [
    {
     "name": "stdout",
     "output_type": "stream",
     "text": [
      "Printing using pprint() function\n",
      "[{'Age': '45',\n",
      "  'Name': 'Superman',\n",
      "  'Residence': {'City': 'New York', 'Country': 'USA'}},\n",
      " {'Age': '37',\n",
      "  'Name': 'Batman',\n",
      "  'Residence': {'City': 'Vegas', 'Country': 'USA'}},\n",
      " {'Age': '35',\n",
      "  'Name': 'Iron Man',\n",
      "  'Residence': {'City': 'Osaka', 'Country': 'Japan'}},\n",
      " {'Age': '25',\n",
      "  'Name': 'Hero',\n",
      "  'Residence': {'City': 'Delhi', 'Country': 'India'}}]\n"
     ]
    }
   ],
   "source": [
    "# 1. Using pprint()\n",
    "import pprint\n",
    "print('Printing using pprint() function')\n",
    "pprint.pprint(ndict)"
   ]
  },
  {
   "cell_type": "code",
   "execution_count": 12,
   "metadata": {},
   "outputs": [
    {
     "name": "stdout",
     "output_type": "stream",
     "text": [
      "Printing using dumps() method\n",
      " [\n",
      "    {\n",
      "        \"Name\": \"Superman\",\n",
      "        \"Age\": \"45\",\n",
      "        \"Residence\": {\n",
      "            \"Country\": \"USA\",\n",
      "            \"City\": \"New York\"\n",
      "        }\n",
      "    },\n",
      "    {\n",
      "        \"Name\": \"Batman\",\n",
      "        \"Age\": \"37\",\n",
      "        \"Residence\": {\n",
      "            \"Country\": \"USA\",\n",
      "            \"City\": \"Vegas\"\n",
      "        }\n",
      "    },\n",
      "    {\n",
      "        \"Name\": \"Iron Man\",\n",
      "        \"Age\": \"35\",\n",
      "        \"Residence\": {\n",
      "            \"Country\": \"Japan\",\n",
      "            \"City\": \"Osaka\"\n",
      "        }\n",
      "    },\n",
      "    {\n",
      "        \"Name\": \"Hero\",\n",
      "        \"Age\": \"25\",\n",
      "        \"Residence\": {\n",
      "            \"Country\": \"India\",\n",
      "            \"City\": \"Delhi\"\n",
      "        }\n",
      "    }\n",
      "]\n",
      "----------------------------------------------------------------------\n"
     ]
    }
   ],
   "source": [
    "# 2. Using json\n",
    "import json\n",
    "dump1 = json.dumps(ndict, indent=4)\n",
    "print(f'Printing using dumps() method\\n {dump1}' )\n",
    "print('-'*70)"
   ]
  },
  {
   "cell_type": "code",
   "execution_count": 8,
   "metadata": {},
   "outputs": [
    {
     "name": "stdout",
     "output_type": "stream",
     "text": [
      "printing using dump method - Age: '45'\n",
      "  Name: Superman\n",
      "  Residence:\n",
      "    City: New York\n",
      "    Country: USA\n",
      "- Age: '37'\n",
      "  Name: Batman\n",
      "  Residence:\n",
      "    City: Vegas\n",
      "    Country: USA\n",
      "- Age: '35'\n",
      "  Name: Iron Man\n",
      "  Residence:\n",
      "    City: Osaka\n",
      "    Country: Japan\n",
      "- Age: '25'\n",
      "  Name: Hero\n",
      "  Residence:\n",
      "    City: Delhi\n",
      "    Country: India\n",
      "\n"
     ]
    }
   ],
   "source": [
    "import yaml\n",
    "dump2 = yaml.dump(ndict)\n",
    "\n",
    "print(f'printing using dump method {dump2}')"
   ]
  },
  {
   "cell_type": "code",
   "execution_count": null,
   "metadata": {},
   "outputs": [],
   "source": []
  }
 ],
 "metadata": {
  "kernelspec": {
   "display_name": "base",
   "language": "python",
   "name": "python3"
  },
  "language_info": {
   "codemirror_mode": {
    "name": "ipython",
    "version": 3
   },
   "file_extension": ".py",
   "mimetype": "text/x-python",
   "name": "python",
   "nbconvert_exporter": "python",
   "pygments_lexer": "ipython3",
   "version": "3.9.12"
  },
  "orig_nbformat": 4
 },
 "nbformat": 4,
 "nbformat_minor": 2
}
