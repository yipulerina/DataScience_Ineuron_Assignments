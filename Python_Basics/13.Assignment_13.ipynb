{
 "cells": [
  {
   "attachments": {},
   "cell_type": "markdown",
   "id": "e3bb5f2d",
   "metadata": {},
   "source": [
    "# Assignment 13\n",
    "\n",
    "### Submitted by: Yipu Lerina"
   ]
  },
  {
   "attachments": {},
   "cell_type": "markdown",
   "id": "d8aab80a",
   "metadata": {},
   "source": [
    "#### 1. What advantages do Excel spreadsheets have over CSV spreadsheets?\n",
    "**Ans:** The Advantages of Excel over CSV are:\n",
    "1. Excel (XLS and XLSX) file formats are better for storing and analysing complex data.\n",
    "2. An Excel not only stores data but can also do operations on the data using macros, formulas etc\n",
    "3. CSV files are plain-text files, Does not contain formatting, formulas, macros, etc. It is also known as flat files"
   ]
  },
  {
   "attachments": {},
   "cell_type": "markdown",
   "id": "b66e958d",
   "metadata": {},
   "source": [
    "#### 2.What do you pass to csv.reader() and csv.writer() to create reader and writer objects?\n",
    "\n",
    "##### Ans: The answer is to the question is given with the examples below:"
   ]
  },
  {
   "cell_type": "code",
   "execution_count": null,
   "id": "68c98587",
   "metadata": {},
   "outputs": [],
   "source": [
    "# csv.reader()\n",
    "\n",
    "import csv\n",
    "\n",
    "readcsvfile =open('readfile.csv', 'r')\n",
    "reader = csv.reader(readcsvfile)"
   ]
  },
  {
   "cell_type": "code",
   "execution_count": null,
   "id": "f5d845a6",
   "metadata": {},
   "outputs": [],
   "source": [
    "# csv.writer\n",
    "\n",
    "writecsvfile = open('writefile.csv','w')\n",
    "write = csv.writer(writecsvfile)"
   ]
  },
  {
   "attachments": {},
   "cell_type": "markdown",
   "id": "c3478f56",
   "metadata": {},
   "source": [
    "#### 3. What modes do File objects for reader and writer objects need to be opened in?\n",
    "**Ans:** For `csv.reader(iterable_file_object)`, the file objects needed to be opened in `read` mode `mode='r'` Whereas for `csv.writer(iterable_file_object)` the file objects needed to be opened in `write` mode `mode='w'`\n"
   ]
  },
  {
   "attachments": {},
   "cell_type": "markdown",
   "id": "c2f017ec",
   "metadata": {},
   "source": [
    "#### 4. What method takes a list argument and writes it to a CSV file?\n",
    "**Ans:** csv.writer class provides two methods for writing to CSV. They are `writerow()` and `writerows().` writerow() method writes a single row at a time. Whereas writerows() method is used to write multiple rows at a time."
   ]
  },
  {
   "cell_type": "code",
   "execution_count": 2,
   "id": "3a3e46b5",
   "metadata": {},
   "outputs": [],
   "source": [
    "# Example Program\n",
    "import csv      \n",
    "fields = ['Name', 'Designation', 'Year', 'Salary'] #column names \n",
    "rows = [ \n",
    "            ['Tom', 'Lead Data Scientist', '3', '130000'],  # data rows of csv file \n",
    "            ['Sarah', 'Data Scientist', '2', '90000'], \n",
    "            ['Henry', 'Data Analyst', '2', '60000']\n",
    "       ] \n",
    "with open(\"employee_records.csv\", 'w') as csvfile: \n",
    "    csvwriter = csv.writer(csvfile) # creating a csv writer object \n",
    "    csvwriter.writerow(fields) # writing the fields \n",
    "    csvwriter.writerows(rows) # writing the data rows "
   ]
  },
  {
   "attachments": {},
   "cell_type": "markdown",
   "id": "68179164",
   "metadata": {},
   "source": [
    "#### 5. What do the keyword arguments delimiter and line terminator do?\n",
    "**Ans:** Lets take the example of a csv file:  \n",
    "`First Name, Last Name, Age`  \n",
    "`Roger, Federrer, 24`  \n",
    "`Anna, Hatheway, 21`  \n",
    "Here `','` is Delimiter. We can use any Character as per our needs if required. Similarly `line terminator `comes at end of line by default it is newline and can be changed accourding to Requirement."
   ]
  },
  {
   "attachments": {},
   "cell_type": "markdown",
   "id": "94752f89",
   "metadata": {},
   "source": [
    "#### 6. What function takes a string of JSON data and returns a Python data structure?\n",
    "**Ans:** `json.loads()` method takes a string of JSON data and returns a Python data structure"
   ]
  },
  {
   "cell_type": "code",
   "execution_count": 1,
   "id": "cf976f3f",
   "metadata": {},
   "outputs": [
    {
     "name": "stdout",
     "output_type": "stream",
     "text": [
      "{\n",
      "    \"Name\": \"Henry Cavill\",\n",
      "    \"Designation\": \"Actor\",\n",
      "    \"Salary\": \"30000000\"\n",
      "}\n",
      "Type of my_details_json is <class 'str'>\n",
      "{'Name': 'Henry Cavill', 'Designation': 'Actor', 'Salary': '30000000'}\n",
      "Type of my_details is <class 'dict'>\n"
     ]
    }
   ],
   "source": [
    "# Example of json.loads() method\n",
    "import json\n",
    "my_details_json ='''{\n",
    "    \"Name\": \"Henry Cavill\",\n",
    "    \"Designation\": \"Actor\",\n",
    "    \"Salary\": \"30000000\"\n",
    "}'''\n",
    "print(my_details_json)\n",
    "print(f'Type of my_details_json is {type(my_details_json)}')\n",
    "\n",
    "my_details = json.loads(my_details_json)\n",
    "print(my_details)\n",
    "print(f'Type of my_details is {type(my_details)}')"
   ]
  },
  {
   "attachments": {},
   "cell_type": "markdown",
   "id": "bc39716d",
   "metadata": {},
   "source": [
    "#### 7. What function takes a Python data structure and returns a string of JSON data?\n",
    "**Ans:** `json.dumps()` method takes a python data structure and returns a string of JSON data"
   ]
  },
  {
   "cell_type": "code",
   "execution_count": 3,
   "id": "5125a827",
   "metadata": {},
   "outputs": [
    {
     "name": "stdout",
     "output_type": "stream",
     "text": [
      "{'Name': 'Henry Cavill', 'Designation': 'Actor', 'Salary': '30000000'}\n",
      "Type of my_details is <class 'dict'>\n",
      "{\n",
      "    \"Designation\": \"Actor\",\n",
      "    \"Name\": \"Henry Cavill\",\n",
      "    \"Salary\": \"30000000\"\n",
      "}\n",
      "Type of my_details_json is <class 'str'>\n"
     ]
    }
   ],
   "source": [
    "# Example of json.dumps() method\n",
    "import json\n",
    "my_details = {\n",
    "    \"Name\": \"Henry Cavill\",\n",
    "    \"Designation\": \"Actor\",\n",
    "    \"Salary\": \"30000000\"\n",
    "}\n",
    "print(my_details)\n",
    "print(f'Type of my_details is {type(my_details)}')\n",
    "\n",
    "\n",
    "my_details_json = json.dumps(my_details, indent=4, sort_keys=True)\n",
    "print(my_details_json)\n",
    "print(f'Type of my_details_json is {type(my_details_json)}')"
   ]
  },
  {
   "cell_type": "code",
   "execution_count": null,
   "id": "deb7c71e",
   "metadata": {},
   "outputs": [],
   "source": []
  }
 ],
 "metadata": {
  "kernelspec": {
   "display_name": "Python 3",
   "language": "python",
   "name": "python3"
  },
  "language_info": {
   "codemirror_mode": {
    "name": "ipython",
    "version": 3
   },
   "file_extension": ".py",
   "mimetype": "text/x-python",
   "name": "python",
   "nbconvert_exporter": "python",
   "pygments_lexer": "ipython3",
   "version": "3.9.12"
  }
 },
 "nbformat": 4,
 "nbformat_minor": 5
}
