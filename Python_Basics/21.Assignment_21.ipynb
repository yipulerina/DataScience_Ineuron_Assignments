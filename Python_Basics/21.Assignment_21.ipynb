{
 "cells": [
  {
   "cell_type": "markdown",
   "id": "984b4513",
   "metadata": {},
   "source": [
    "# Assignment 21\n",
    "\n",
    "### Submitted by: Yipu Lerina"
   ]
  },
  {
   "cell_type": "markdown",
   "id": "4fe8b19e",
   "metadata": {},
   "source": [
    "#### 1. Add the current date to the text file today.txt as a string."
   ]
  },
  {
   "cell_type": "code",
   "execution_count": 1,
   "id": "4c5ad5ac",
   "metadata": {},
   "outputs": [
    {
     "name": "stdout",
     "output_type": "stream",
     "text": [
      "08-07-2023\n"
     ]
    }
   ],
   "source": [
    "import datetime\n",
    "# Code to Add current date to the today.txt file\n",
    "file = open('today.txt','w')\n",
    "file.write(datetime.datetime.now().strftime(\"%d-%m-%Y\"))\n",
    "file.close()\n",
    "# Code to Read current date from today.txt file\n",
    "file = open('today.txt','r')\n",
    "print(file.read())\n",
    "file.close()"
   ]
  },
  {
   "cell_type": "markdown",
   "id": "6cf23762",
   "metadata": {},
   "source": [
    "#### 2. Read the text file today.txt into the string today_string"
   ]
  },
  {
   "cell_type": "code",
   "execution_count": 2,
   "id": "107143ea",
   "metadata": {},
   "outputs": [
    {
     "name": "stdout",
     "output_type": "stream",
     "text": [
      "08-07-2023\n"
     ]
    }
   ],
   "source": [
    "file = open('today.txt','r')\n",
    "today_string = file.read()\n",
    "print(today_string)"
   ]
  },
  {
   "cell_type": "markdown",
   "id": "165addb6",
   "metadata": {},
   "source": [
    "#### 3. Parse the date from today_string."
   ]
  },
  {
   "cell_type": "code",
   "execution_count": 3,
   "id": "c622da5b",
   "metadata": {},
   "outputs": [
    {
     "name": "stdout",
     "output_type": "stream",
     "text": [
      "2023-07-08 00:00:00\n"
     ]
    }
   ],
   "source": [
    "from datetime import datetime\n",
    "parsed_data = datetime.strptime(today_string, '%d-%m-%Y')\n",
    "print(parsed_data)"
   ]
  },
  {
   "cell_type": "markdown",
   "id": "664d3278",
   "metadata": {},
   "source": [
    "#### 4. List the files in your current directory"
   ]
  },
  {
   "cell_type": "code",
   "execution_count": 7,
   "id": "cbacd0e4",
   "metadata": {},
   "outputs": [
    {
     "name": "stdout",
     "output_type": "stream",
     "text": [
      "01.Assignment_1.ipynb\n",
      "02.Assignment_2.ipynb\n",
      "03.Assignment_3.ipynb\n",
      "04.Assignment_4.ipynb\n",
      "05.Assignment_5.ipynb\n",
      "06.Assignment_6.ipynb\n",
      "07.Assignment_7.ipynb\n",
      "08.Assignment_8.ipynb\n",
      "09.Assignment_9.ipynb\n",
      "10.Assignment_10.ipynb\n",
      "11.Assignment_11.ipynb\n",
      "12.Assignment_12.ipynb\n",
      "13.Assignment_13.ipynb\n",
      "14.Assignment_14.ipynb\n",
      "15.Assignment_15.ipynb\n",
      "16.Assignment_16.ipynb\n",
      "17.Assignment_17.ipynb\n",
      "19.Assignment_19.ipynb\n",
      "20.Assignment_20.ipynb\n",
      "21.Assignment_21.ipynb\n",
      "today.txt\n",
      "18.Assignment_18.ipynb\n",
      "zoo.py\n",
      "zoo.cpython-39.pyc\n"
     ]
    }
   ],
   "source": [
    "import os\n",
    "for folders, subfolders, files in os.walk(os.getcwd()):\n",
    "    for file in files:\n",
    "        print(file)"
   ]
  },
  {
   "cell_type": "markdown",
   "id": "291a203b",
   "metadata": {},
   "source": [
    "#### 5. Create a list of all of the files in your parent directory (minimum five files should be available)."
   ]
  },
  {
   "cell_type": "code",
   "execution_count": 8,
   "id": "efe9618b",
   "metadata": {},
   "outputs": [
    {
     "data": {
      "text/plain": [
       "['01.Assignment_1.ipynb',\n",
       " '02.Assignment_2.ipynb',\n",
       " '03.Assignment_3.ipynb',\n",
       " '04.Assignment_4.ipynb',\n",
       " '05.Assignment_5.ipynb',\n",
       " '06.Assignment_6.ipynb',\n",
       " '07.Assignment_7.ipynb',\n",
       " '08.Assignment_8.ipynb',\n",
       " '09.Assignment_9.ipynb',\n",
       " '10.Assignment_10.ipynb',\n",
       " '11.Assignment_11.ipynb',\n",
       " '12.Assignment_12.ipynb',\n",
       " '13.Assignment_13.ipynb',\n",
       " '14.Assignment_14.ipynb',\n",
       " '15.Assignment_15.ipynb',\n",
       " '16.Assignment_16.ipynb',\n",
       " '17.Assignment_17.ipynb',\n",
       " '18.Assignment_18',\n",
       " '19.Assignment_19.ipynb',\n",
       " '20.Assignment_20.ipynb',\n",
       " '21.Assignment_21.ipynb',\n",
       " 'today.txt']"
      ]
     },
     "execution_count": 8,
     "metadata": {},
     "output_type": "execute_result"
    }
   ],
   "source": [
    "import os \n",
    "os.listdir()"
   ]
  },
  {
   "cell_type": "markdown",
   "id": "203dd9fe",
   "metadata": {},
   "source": [
    "#### 6. Use multiprocessing to create three separate processes. Make each one wait a random number of seconds between one and five, print the current time, and then exit."
   ]
  },
  {
   "cell_type": "code",
   "execution_count": 10,
   "id": "bcb2799b",
   "metadata": {},
   "outputs": [],
   "source": [
    "import multiprocessing\n",
    "import time \n",
    "import random\n",
    "import datetime\n",
    "\n",
    "\n",
    "def procOne():\n",
    "    print(f'Proc_one_Starttime -> {datetime.datetime.now()}')\n",
    "    time.sleep(random.randint(1,5))\n",
    "    print(f'Proc_one_Endtime -> {datetime.datetime.now()}')\n",
    "    \n",
    "def procTwo():\n",
    "    print(f'Proc_two_Starttime -> {datetime.datetime.now()}')\n",
    "    time.sleep(random.randint(1,5))\n",
    "    print(f'Proc_two_Endtime -> {datetime.datetime.now()}')\n",
    "\n",
    "def procThree():\n",
    "    print(f'Proc_two_Starttime -> {datetime.datetime.now()}')\n",
    "    time.sleep(random.randint(1,5))\n",
    "    print(f'Proc_two_Endtime -> {datetime.datetime.now()}')\n",
    "    \n",
    "if __name__ == \"__main__\":    \n",
    "    p1 = multiprocessing.Process(target=procOne)\n",
    "    p2 = multiprocessing.Process(target=procTwo)\n",
    "    p3 = multiprocessing.Process(target=procThree)\n",
    "\n",
    "    p1.start()\n",
    "    p2.start()\n",
    "    p3.start()\n",
    "\n",
    "    p1.join()\n",
    "    p2.join()\n",
    "    p3.join()\n",
    "    \n",
    "    finish = time.perf_counter()\n",
    "    \n",
    "    "
   ]
  },
  {
   "cell_type": "markdown",
   "id": "710ba830-38ca-4814-a28d-a266099ff07f",
   "metadata": {},
   "source": [
    "I copied the code to a python file, executed it and pasted the ouput here  \n",
    "`(base) D:\\Ineuron\\Ineuron_Assignments>C:/Users/lerin/anaconda3/python.exe d:/Ineuron/Ineuron_Assignments/Python_Basics/test.py`\n",
    "\n",
    "`Proc_one_Starttime -> 2023-07-08 16:10:06.373436`\n",
    "\n",
    "`Proc_two_Starttime -> 2023-07-08 16:10:06.389050`\n",
    "\n",
    "`Proc_two_Starttime -> 2023-07-08 16:10:06.389050`\n",
    "\n",
    "`Proc_two_Endtime -> 2023-07-08 16:10:07.403861`\n",
    "\n",
    "`Proc_one_Endtime -> 2023-07-08 16:10:08.386006`\n",
    "\n",
    "`Proc_two_Endtime -> 2023-07-08 16:10:09.400556`"
   ]
  },
  {
   "cell_type": "markdown",
   "id": "71d07e78",
   "metadata": {},
   "source": [
    "#### 7. Create a date object of your day of birth."
   ]
  },
  {
   "cell_type": "code",
   "execution_count": 11,
   "id": "9ef7a7f1",
   "metadata": {},
   "outputs": [
    {
     "name": "stdout",
     "output_type": "stream",
     "text": [
      "2000-05-20 00:00:00\n"
     ]
    }
   ],
   "source": [
    "from datetime import datetime\n",
    "my_dob = datetime.strptime('20/05/2000','%d/%m/%Y')\n",
    "print(my_dob)"
   ]
  },
  {
   "cell_type": "markdown",
   "id": "e5775db9",
   "metadata": {},
   "source": [
    "#### 8. What day of the week was your day of birth?"
   ]
  },
  {
   "cell_type": "code",
   "execution_count": 12,
   "id": "65b6ae43",
   "metadata": {},
   "outputs": [
    {
     "data": {
      "text/plain": [
       "'Saturday'"
      ]
     },
     "execution_count": 12,
     "metadata": {},
     "output_type": "execute_result"
    }
   ],
   "source": [
    "from datetime import datetime\n",
    "my_dob = datetime(2000,5,20)\n",
    "my_dob.strftime(\"%A\")"
   ]
  },
  {
   "cell_type": "markdown",
   "id": "abe779de",
   "metadata": {},
   "source": [
    "#### 9. When will you be (or when were you) 10,000 days old?"
   ]
  },
  {
   "cell_type": "code",
   "execution_count": 14,
   "id": "db7e28a0",
   "metadata": {},
   "outputs": [
    {
     "name": "stdout",
     "output_type": "stream",
     "text": [
      "10,000 days ago from my dob ->1973-01-02 00:00:00\n"
     ]
    }
   ],
   "source": [
    "from datetime import datetime, timedelta\n",
    "my_dob = datetime.strptime('20/05/2000','%d/%m/%Y')\n",
    "future_date = my_dob-timedelta(10000)\n",
    "print(f'10,000 days ago from my dob ->{future_date}')"
   ]
  },
  {
   "cell_type": "code",
   "execution_count": null,
   "id": "dd5b152a",
   "metadata": {},
   "outputs": [],
   "source": []
  }
 ],
 "metadata": {
  "kernelspec": {
   "display_name": "Python 3",
   "language": "python",
   "name": "python3"
  },
  "language_info": {
   "codemirror_mode": {
    "name": "ipython",
    "version": 3
   },
   "file_extension": ".py",
   "mimetype": "text/x-python",
   "name": "python",
   "nbconvert_exporter": "python",
   "pygments_lexer": "ipython3",
   "version": "3.9.12"
  }
 },
 "nbformat": 4,
 "nbformat_minor": 5
}
